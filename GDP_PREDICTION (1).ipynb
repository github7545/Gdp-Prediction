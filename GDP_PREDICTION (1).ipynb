{
  "nbformat": 4,
  "nbformat_minor": 0,
  "metadata": {
    "colab": {
      "provenance": [],
      "collapsed_sections": []
    },
    "kernelspec": {
      "name": "python3",
      "display_name": "Python 3"
    },
    "language_info": {
      "name": "python"
    }
  },
  "cells": [
    {
      "cell_type": "code",
      "execution_count": null,
      "metadata": {
        "id": "UwDxscphF3ch"
      },
      "outputs": [],
      "source": [
        "import pandas as pd\n",
        "import numpy as np"
      ]
    },
    {
      "cell_type": "code",
      "source": [
        "#####Reading The Data\n",
        "data=pd.read_csv('/content/countries of the world.csv',decimal=',')\n",
        "data.head()"
      ],
      "metadata": {
        "colab": {
          "base_uri": "https://localhost:8080/",
          "height": 426
        },
        "id": "5dzvw0KsGMDN",
        "outputId": "b05ce2e2-cac7-4001-8355-cf9cbee91808"
      },
      "execution_count": null,
      "outputs": [
        {
          "output_type": "execute_result",
          "data": {
            "text/plain": [
              "           Country                               Region  Population  \\\n",
              "0     Afghanistan         ASIA (EX. NEAR EAST)             31056997   \n",
              "1         Albania   EASTERN EUROPE                          3581655   \n",
              "2         Algeria   NORTHERN AFRICA                        32930091   \n",
              "3  American Samoa   OCEANIA                                   57794   \n",
              "4         Andorra   WESTERN EUROPE                            71201   \n",
              "\n",
              "   Area (sq. mi.)  Pop. Density (per sq. mi.)  Coastline (coast/area ratio)  \\\n",
              "0          647500                   48.000000                      0.000000   \n",
              "1           28748                  124.600000                      1.260000   \n",
              "2         2381740                   13.800000                      0.040000   \n",
              "3             199                  290.400000                     58.290000   \n",
              "4             468                  152.100000                      0.000000   \n",
              "\n",
              "   Net migration  Infant mortality (per 1000 births)  GDP ($ per capita)  \\\n",
              "0      23.060000                          163.070000          700.000000   \n",
              "1      -4.930000                           21.520000         4500.000000   \n",
              "2      -0.390000                           31.000000         6000.000000   \n",
              "3     -20.710000                            9.270000         8000.000000   \n",
              "4       6.600000                            4.050000        19000.000000   \n",
              "\n",
              "   Literacy (%)  Phones (per 1000)  Arable (%)  Crops (%)  Other (%)  Climate  \\\n",
              "0     36.000000           3.200000   12.130000   0.220000  87.650000 1.000000   \n",
              "1     86.500000          71.200000   21.090000   4.420000  74.490000 3.000000   \n",
              "2     70.000000          78.100000    3.220000   0.250000  96.530000 1.000000   \n",
              "3     97.000000         259.500000   10.000000  15.000000  75.000000 2.000000   \n",
              "4    100.000000         497.200000    2.220000   0.000000  97.780000 3.000000   \n",
              "\n",
              "   Birthrate  Deathrate  Agriculture  Industry  Service  \n",
              "0  46.600000  20.340000     0.380000  0.240000 0.380000  \n",
              "1  15.110000   5.220000     0.232000  0.188000 0.579000  \n",
              "2  17.140000   4.610000     0.101000  0.600000 0.298000  \n",
              "3  22.460000   3.270000          NaN       NaN      NaN  \n",
              "4   8.710000   6.250000          NaN       NaN      NaN  "
            ],
            "text/html": [
              "\n",
              "  <div id=\"df-20577d4b-6d14-475c-9d0c-b82ca8d94d72\">\n",
              "    <div class=\"colab-df-container\">\n",
              "      <div>\n",
              "<style scoped>\n",
              "    .dataframe tbody tr th:only-of-type {\n",
              "        vertical-align: middle;\n",
              "    }\n",
              "\n",
              "    .dataframe tbody tr th {\n",
              "        vertical-align: top;\n",
              "    }\n",
              "\n",
              "    .dataframe thead th {\n",
              "        text-align: right;\n",
              "    }\n",
              "</style>\n",
              "<table border=\"1\" class=\"dataframe\">\n",
              "  <thead>\n",
              "    <tr style=\"text-align: right;\">\n",
              "      <th></th>\n",
              "      <th>Country</th>\n",
              "      <th>Region</th>\n",
              "      <th>Population</th>\n",
              "      <th>Area (sq. mi.)</th>\n",
              "      <th>Pop. Density (per sq. mi.)</th>\n",
              "      <th>Coastline (coast/area ratio)</th>\n",
              "      <th>Net migration</th>\n",
              "      <th>Infant mortality (per 1000 births)</th>\n",
              "      <th>GDP ($ per capita)</th>\n",
              "      <th>Literacy (%)</th>\n",
              "      <th>Phones (per 1000)</th>\n",
              "      <th>Arable (%)</th>\n",
              "      <th>Crops (%)</th>\n",
              "      <th>Other (%)</th>\n",
              "      <th>Climate</th>\n",
              "      <th>Birthrate</th>\n",
              "      <th>Deathrate</th>\n",
              "      <th>Agriculture</th>\n",
              "      <th>Industry</th>\n",
              "      <th>Service</th>\n",
              "    </tr>\n",
              "  </thead>\n",
              "  <tbody>\n",
              "    <tr>\n",
              "      <th>0</th>\n",
              "      <td>Afghanistan</td>\n",
              "      <td>ASIA (EX. NEAR EAST)</td>\n",
              "      <td>31056997</td>\n",
              "      <td>647500</td>\n",
              "      <td>48.000000</td>\n",
              "      <td>0.000000</td>\n",
              "      <td>23.060000</td>\n",
              "      <td>163.070000</td>\n",
              "      <td>700.000000</td>\n",
              "      <td>36.000000</td>\n",
              "      <td>3.200000</td>\n",
              "      <td>12.130000</td>\n",
              "      <td>0.220000</td>\n",
              "      <td>87.650000</td>\n",
              "      <td>1.000000</td>\n",
              "      <td>46.600000</td>\n",
              "      <td>20.340000</td>\n",
              "      <td>0.380000</td>\n",
              "      <td>0.240000</td>\n",
              "      <td>0.380000</td>\n",
              "    </tr>\n",
              "    <tr>\n",
              "      <th>1</th>\n",
              "      <td>Albania</td>\n",
              "      <td>EASTERN EUROPE</td>\n",
              "      <td>3581655</td>\n",
              "      <td>28748</td>\n",
              "      <td>124.600000</td>\n",
              "      <td>1.260000</td>\n",
              "      <td>-4.930000</td>\n",
              "      <td>21.520000</td>\n",
              "      <td>4500.000000</td>\n",
              "      <td>86.500000</td>\n",
              "      <td>71.200000</td>\n",
              "      <td>21.090000</td>\n",
              "      <td>4.420000</td>\n",
              "      <td>74.490000</td>\n",
              "      <td>3.000000</td>\n",
              "      <td>15.110000</td>\n",
              "      <td>5.220000</td>\n",
              "      <td>0.232000</td>\n",
              "      <td>0.188000</td>\n",
              "      <td>0.579000</td>\n",
              "    </tr>\n",
              "    <tr>\n",
              "      <th>2</th>\n",
              "      <td>Algeria</td>\n",
              "      <td>NORTHERN AFRICA</td>\n",
              "      <td>32930091</td>\n",
              "      <td>2381740</td>\n",
              "      <td>13.800000</td>\n",
              "      <td>0.040000</td>\n",
              "      <td>-0.390000</td>\n",
              "      <td>31.000000</td>\n",
              "      <td>6000.000000</td>\n",
              "      <td>70.000000</td>\n",
              "      <td>78.100000</td>\n",
              "      <td>3.220000</td>\n",
              "      <td>0.250000</td>\n",
              "      <td>96.530000</td>\n",
              "      <td>1.000000</td>\n",
              "      <td>17.140000</td>\n",
              "      <td>4.610000</td>\n",
              "      <td>0.101000</td>\n",
              "      <td>0.600000</td>\n",
              "      <td>0.298000</td>\n",
              "    </tr>\n",
              "    <tr>\n",
              "      <th>3</th>\n",
              "      <td>American Samoa</td>\n",
              "      <td>OCEANIA</td>\n",
              "      <td>57794</td>\n",
              "      <td>199</td>\n",
              "      <td>290.400000</td>\n",
              "      <td>58.290000</td>\n",
              "      <td>-20.710000</td>\n",
              "      <td>9.270000</td>\n",
              "      <td>8000.000000</td>\n",
              "      <td>97.000000</td>\n",
              "      <td>259.500000</td>\n",
              "      <td>10.000000</td>\n",
              "      <td>15.000000</td>\n",
              "      <td>75.000000</td>\n",
              "      <td>2.000000</td>\n",
              "      <td>22.460000</td>\n",
              "      <td>3.270000</td>\n",
              "      <td>NaN</td>\n",
              "      <td>NaN</td>\n",
              "      <td>NaN</td>\n",
              "    </tr>\n",
              "    <tr>\n",
              "      <th>4</th>\n",
              "      <td>Andorra</td>\n",
              "      <td>WESTERN EUROPE</td>\n",
              "      <td>71201</td>\n",
              "      <td>468</td>\n",
              "      <td>152.100000</td>\n",
              "      <td>0.000000</td>\n",
              "      <td>6.600000</td>\n",
              "      <td>4.050000</td>\n",
              "      <td>19000.000000</td>\n",
              "      <td>100.000000</td>\n",
              "      <td>497.200000</td>\n",
              "      <td>2.220000</td>\n",
              "      <td>0.000000</td>\n",
              "      <td>97.780000</td>\n",
              "      <td>3.000000</td>\n",
              "      <td>8.710000</td>\n",
              "      <td>6.250000</td>\n",
              "      <td>NaN</td>\n",
              "      <td>NaN</td>\n",
              "      <td>NaN</td>\n",
              "    </tr>\n",
              "  </tbody>\n",
              "</table>\n",
              "</div>\n",
              "      <button class=\"colab-df-convert\" onclick=\"convertToInteractive('df-20577d4b-6d14-475c-9d0c-b82ca8d94d72')\"\n",
              "              title=\"Convert this dataframe to an interactive table.\"\n",
              "              style=\"display:none;\">\n",
              "        \n",
              "  <svg xmlns=\"http://www.w3.org/2000/svg\" height=\"24px\"viewBox=\"0 0 24 24\"\n",
              "       width=\"24px\">\n",
              "    <path d=\"M0 0h24v24H0V0z\" fill=\"none\"/>\n",
              "    <path d=\"M18.56 5.44l.94 2.06.94-2.06 2.06-.94-2.06-.94-.94-2.06-.94 2.06-2.06.94zm-11 1L8.5 8.5l.94-2.06 2.06-.94-2.06-.94L8.5 2.5l-.94 2.06-2.06.94zm10 10l.94 2.06.94-2.06 2.06-.94-2.06-.94-.94-2.06-.94 2.06-2.06.94z\"/><path d=\"M17.41 7.96l-1.37-1.37c-.4-.4-.92-.59-1.43-.59-.52 0-1.04.2-1.43.59L10.3 9.45l-7.72 7.72c-.78.78-.78 2.05 0 2.83L4 21.41c.39.39.9.59 1.41.59.51 0 1.02-.2 1.41-.59l7.78-7.78 2.81-2.81c.8-.78.8-2.07 0-2.86zM5.41 20L4 18.59l7.72-7.72 1.47 1.35L5.41 20z\"/>\n",
              "  </svg>\n",
              "      </button>\n",
              "      \n",
              "  <style>\n",
              "    .colab-df-container {\n",
              "      display:flex;\n",
              "      flex-wrap:wrap;\n",
              "      gap: 12px;\n",
              "    }\n",
              "\n",
              "    .colab-df-convert {\n",
              "      background-color: #E8F0FE;\n",
              "      border: none;\n",
              "      border-radius: 50%;\n",
              "      cursor: pointer;\n",
              "      display: none;\n",
              "      fill: #1967D2;\n",
              "      height: 32px;\n",
              "      padding: 0 0 0 0;\n",
              "      width: 32px;\n",
              "    }\n",
              "\n",
              "    .colab-df-convert:hover {\n",
              "      background-color: #E2EBFA;\n",
              "      box-shadow: 0px 1px 2px rgba(60, 64, 67, 0.3), 0px 1px 3px 1px rgba(60, 64, 67, 0.15);\n",
              "      fill: #174EA6;\n",
              "    }\n",
              "\n",
              "    [theme=dark] .colab-df-convert {\n",
              "      background-color: #3B4455;\n",
              "      fill: #D2E3FC;\n",
              "    }\n",
              "\n",
              "    [theme=dark] .colab-df-convert:hover {\n",
              "      background-color: #434B5C;\n",
              "      box-shadow: 0px 1px 3px 1px rgba(0, 0, 0, 0.15);\n",
              "      filter: drop-shadow(0px 1px 2px rgba(0, 0, 0, 0.3));\n",
              "      fill: #FFFFFF;\n",
              "    }\n",
              "  </style>\n",
              "\n",
              "      <script>\n",
              "        const buttonEl =\n",
              "          document.querySelector('#df-20577d4b-6d14-475c-9d0c-b82ca8d94d72 button.colab-df-convert');\n",
              "        buttonEl.style.display =\n",
              "          google.colab.kernel.accessAllowed ? 'block' : 'none';\n",
              "\n",
              "        async function convertToInteractive(key) {\n",
              "          const element = document.querySelector('#df-20577d4b-6d14-475c-9d0c-b82ca8d94d72');\n",
              "          const dataTable =\n",
              "            await google.colab.kernel.invokeFunction('convertToInteractive',\n",
              "                                                     [key], {});\n",
              "          if (!dataTable) return;\n",
              "\n",
              "          const docLinkHtml = 'Like what you see? Visit the ' +\n",
              "            '<a target=\"_blank\" href=https://colab.research.google.com/notebooks/data_table.ipynb>data table notebook</a>'\n",
              "            + ' to learn more about interactive tables.';\n",
              "          element.innerHTML = '';\n",
              "          dataTable['output_type'] = 'display_data';\n",
              "          await google.colab.output.renderOutput(dataTable, element);\n",
              "          const docLink = document.createElement('div');\n",
              "          docLink.innerHTML = docLinkHtml;\n",
              "          element.appendChild(docLink);\n",
              "        }\n",
              "      </script>\n",
              "    </div>\n",
              "  </div>\n",
              "  "
            ]
          },
          "metadata": {},
          "execution_count": 73
        }
      ]
    },
    {
      "cell_type": "code",
      "source": [
        "###shape of the data\n",
        "data.shape"
      ],
      "metadata": {
        "colab": {
          "base_uri": "https://localhost:8080/"
        },
        "id": "p-6S8fyjHtFc",
        "outputId": "35890ac2-29a5-43ba-ad7d-7293e4473dd5"
      },
      "execution_count": null,
      "outputs": [
        {
          "output_type": "execute_result",
          "data": {
            "text/plain": [
              "(227, 20)"
            ]
          },
          "metadata": {},
          "execution_count": 74
        }
      ]
    },
    {
      "cell_type": "code",
      "source": [
        "####Informations About DAta\n",
        "data.info()"
      ],
      "metadata": {
        "colab": {
          "base_uri": "https://localhost:8080/"
        },
        "id": "iTe2ET5V2SoW",
        "outputId": "00356537-726d-4119-cabd-465246ee30d2"
      },
      "execution_count": null,
      "outputs": [
        {
          "output_type": "stream",
          "name": "stdout",
          "text": [
            "<class 'pandas.core.frame.DataFrame'>\n",
            "RangeIndex: 227 entries, 0 to 226\n",
            "Data columns (total 20 columns):\n",
            " #   Column                              Non-Null Count  Dtype  \n",
            "---  ------                              --------------  -----  \n",
            " 0   Country                             227 non-null    object \n",
            " 1   Region                              227 non-null    object \n",
            " 2   Population                          227 non-null    int64  \n",
            " 3   Area (sq. mi.)                      227 non-null    int64  \n",
            " 4   Pop. Density (per sq. mi.)          227 non-null    float64\n",
            " 5   Coastline (coast/area ratio)        227 non-null    float64\n",
            " 6   Net migration                       224 non-null    float64\n",
            " 7   Infant mortality (per 1000 births)  224 non-null    float64\n",
            " 8   GDP ($ per capita)                  226 non-null    float64\n",
            " 9   Literacy (%)                        209 non-null    float64\n",
            " 10  Phones (per 1000)                   223 non-null    float64\n",
            " 11  Arable (%)                          225 non-null    float64\n",
            " 12  Crops (%)                           225 non-null    float64\n",
            " 13  Other (%)                           225 non-null    float64\n",
            " 14  Climate                             205 non-null    float64\n",
            " 15  Birthrate                           224 non-null    float64\n",
            " 16  Deathrate                           223 non-null    float64\n",
            " 17  Agriculture                         212 non-null    float64\n",
            " 18  Industry                            211 non-null    float64\n",
            " 19  Service                             212 non-null    float64\n",
            "dtypes: float64(16), int64(2), object(2)\n",
            "memory usage: 35.6+ KB\n"
          ]
        }
      ]
    },
    {
      "cell_type": "code",
      "source": [
        "####statistical information of data\n",
        "data.describe()"
      ],
      "metadata": {
        "colab": {
          "base_uri": "https://localhost:8080/",
          "height": 416
        },
        "id": "MKLet8d7H1Li",
        "outputId": "9e1eb9be-db69-4532-f982-38fdf31286c2"
      },
      "execution_count": null,
      "outputs": [
        {
          "output_type": "execute_result",
          "data": {
            "text/plain": [
              "             Population  Area (sq. mi.)  Pop. Density (per sq. mi.)  \\\n",
              "count        227.000000      227.000000                  227.000000   \n",
              "mean    28740284.365639   598226.955947                  379.047137   \n",
              "std    117891326.543477  1790282.243734                 1660.185825   \n",
              "min         7026.000000        2.000000                    0.000000   \n",
              "25%       437624.000000     4647.500000                   29.150000   \n",
              "50%      4786994.000000    86600.000000                   78.800000   \n",
              "75%     17497772.500000   441811.000000                  190.150000   \n",
              "max   1313973713.000000 17075200.000000                16271.500000   \n",
              "\n",
              "       Coastline (coast/area ratio)  Net migration  \\\n",
              "count                    227.000000     224.000000   \n",
              "mean                      21.165330       0.038125   \n",
              "std                       72.286863       4.889269   \n",
              "min                        0.000000     -20.990000   \n",
              "25%                        0.100000      -0.927500   \n",
              "50%                        0.730000       0.000000   \n",
              "75%                       10.345000       0.997500   \n",
              "max                      870.660000      23.060000   \n",
              "\n",
              "       Infant mortality (per 1000 births)  GDP ($ per capita)  Literacy (%)  \\\n",
              "count                          224.000000          226.000000    209.000000   \n",
              "mean                            35.506964         9689.823009     82.838278   \n",
              "std                             35.389899        10049.138513     19.722173   \n",
              "min                              2.290000          500.000000     17.600000   \n",
              "25%                              8.150000         1900.000000     70.600000   \n",
              "50%                             21.000000         5550.000000     92.500000   \n",
              "75%                             55.705000        15700.000000     98.000000   \n",
              "max                            191.190000        55100.000000    100.000000   \n",
              "\n",
              "       Phones (per 1000)  Arable (%)  Crops (%)  Other (%)    Climate  \\\n",
              "count         223.000000  225.000000 225.000000 225.000000 205.000000   \n",
              "mean          236.061435   13.797111   4.564222  81.638311   2.139024   \n",
              "std           227.991829   13.040402   8.361470  16.140835   0.699397   \n",
              "min             0.200000    0.000000   0.000000  33.330000   1.000000   \n",
              "25%            37.800000    3.220000   0.190000  71.650000   2.000000   \n",
              "50%           176.200000   10.420000   1.030000  85.700000   2.000000   \n",
              "75%           389.650000   20.000000   4.440000  95.440000   3.000000   \n",
              "max          1035.600000   62.110000  50.680000 100.000000   4.000000   \n",
              "\n",
              "       Birthrate  Deathrate  Agriculture   Industry    Service  \n",
              "count 224.000000 223.000000   212.000000 211.000000 212.000000  \n",
              "mean   22.114732   9.241345     0.150844   0.282711   0.565283  \n",
              "std    11.176716   4.990026     0.146798   0.138272   0.165841  \n",
              "min     7.290000   2.290000     0.000000   0.020000   0.062000  \n",
              "25%    12.672500   5.910000     0.037750   0.193000   0.429250  \n",
              "50%    18.790000   7.840000     0.099000   0.272000   0.571000  \n",
              "75%    29.820000  10.605000     0.221000   0.341000   0.678500  \n",
              "max    50.730000  29.740000     0.769000   0.906000   0.954000  "
            ],
            "text/html": [
              "\n",
              "  <div id=\"df-1de2b351-e513-4e7b-8c41-01bd3553f289\">\n",
              "    <div class=\"colab-df-container\">\n",
              "      <div>\n",
              "<style scoped>\n",
              "    .dataframe tbody tr th:only-of-type {\n",
              "        vertical-align: middle;\n",
              "    }\n",
              "\n",
              "    .dataframe tbody tr th {\n",
              "        vertical-align: top;\n",
              "    }\n",
              "\n",
              "    .dataframe thead th {\n",
              "        text-align: right;\n",
              "    }\n",
              "</style>\n",
              "<table border=\"1\" class=\"dataframe\">\n",
              "  <thead>\n",
              "    <tr style=\"text-align: right;\">\n",
              "      <th></th>\n",
              "      <th>Population</th>\n",
              "      <th>Area (sq. mi.)</th>\n",
              "      <th>Pop. Density (per sq. mi.)</th>\n",
              "      <th>Coastline (coast/area ratio)</th>\n",
              "      <th>Net migration</th>\n",
              "      <th>Infant mortality (per 1000 births)</th>\n",
              "      <th>GDP ($ per capita)</th>\n",
              "      <th>Literacy (%)</th>\n",
              "      <th>Phones (per 1000)</th>\n",
              "      <th>Arable (%)</th>\n",
              "      <th>Crops (%)</th>\n",
              "      <th>Other (%)</th>\n",
              "      <th>Climate</th>\n",
              "      <th>Birthrate</th>\n",
              "      <th>Deathrate</th>\n",
              "      <th>Agriculture</th>\n",
              "      <th>Industry</th>\n",
              "      <th>Service</th>\n",
              "    </tr>\n",
              "  </thead>\n",
              "  <tbody>\n",
              "    <tr>\n",
              "      <th>count</th>\n",
              "      <td>227.000000</td>\n",
              "      <td>227.000000</td>\n",
              "      <td>227.000000</td>\n",
              "      <td>227.000000</td>\n",
              "      <td>224.000000</td>\n",
              "      <td>224.000000</td>\n",
              "      <td>226.000000</td>\n",
              "      <td>209.000000</td>\n",
              "      <td>223.000000</td>\n",
              "      <td>225.000000</td>\n",
              "      <td>225.000000</td>\n",
              "      <td>225.000000</td>\n",
              "      <td>205.000000</td>\n",
              "      <td>224.000000</td>\n",
              "      <td>223.000000</td>\n",
              "      <td>212.000000</td>\n",
              "      <td>211.000000</td>\n",
              "      <td>212.000000</td>\n",
              "    </tr>\n",
              "    <tr>\n",
              "      <th>mean</th>\n",
              "      <td>28740284.365639</td>\n",
              "      <td>598226.955947</td>\n",
              "      <td>379.047137</td>\n",
              "      <td>21.165330</td>\n",
              "      <td>0.038125</td>\n",
              "      <td>35.506964</td>\n",
              "      <td>9689.823009</td>\n",
              "      <td>82.838278</td>\n",
              "      <td>236.061435</td>\n",
              "      <td>13.797111</td>\n",
              "      <td>4.564222</td>\n",
              "      <td>81.638311</td>\n",
              "      <td>2.139024</td>\n",
              "      <td>22.114732</td>\n",
              "      <td>9.241345</td>\n",
              "      <td>0.150844</td>\n",
              "      <td>0.282711</td>\n",
              "      <td>0.565283</td>\n",
              "    </tr>\n",
              "    <tr>\n",
              "      <th>std</th>\n",
              "      <td>117891326.543477</td>\n",
              "      <td>1790282.243734</td>\n",
              "      <td>1660.185825</td>\n",
              "      <td>72.286863</td>\n",
              "      <td>4.889269</td>\n",
              "      <td>35.389899</td>\n",
              "      <td>10049.138513</td>\n",
              "      <td>19.722173</td>\n",
              "      <td>227.991829</td>\n",
              "      <td>13.040402</td>\n",
              "      <td>8.361470</td>\n",
              "      <td>16.140835</td>\n",
              "      <td>0.699397</td>\n",
              "      <td>11.176716</td>\n",
              "      <td>4.990026</td>\n",
              "      <td>0.146798</td>\n",
              "      <td>0.138272</td>\n",
              "      <td>0.165841</td>\n",
              "    </tr>\n",
              "    <tr>\n",
              "      <th>min</th>\n",
              "      <td>7026.000000</td>\n",
              "      <td>2.000000</td>\n",
              "      <td>0.000000</td>\n",
              "      <td>0.000000</td>\n",
              "      <td>-20.990000</td>\n",
              "      <td>2.290000</td>\n",
              "      <td>500.000000</td>\n",
              "      <td>17.600000</td>\n",
              "      <td>0.200000</td>\n",
              "      <td>0.000000</td>\n",
              "      <td>0.000000</td>\n",
              "      <td>33.330000</td>\n",
              "      <td>1.000000</td>\n",
              "      <td>7.290000</td>\n",
              "      <td>2.290000</td>\n",
              "      <td>0.000000</td>\n",
              "      <td>0.020000</td>\n",
              "      <td>0.062000</td>\n",
              "    </tr>\n",
              "    <tr>\n",
              "      <th>25%</th>\n",
              "      <td>437624.000000</td>\n",
              "      <td>4647.500000</td>\n",
              "      <td>29.150000</td>\n",
              "      <td>0.100000</td>\n",
              "      <td>-0.927500</td>\n",
              "      <td>8.150000</td>\n",
              "      <td>1900.000000</td>\n",
              "      <td>70.600000</td>\n",
              "      <td>37.800000</td>\n",
              "      <td>3.220000</td>\n",
              "      <td>0.190000</td>\n",
              "      <td>71.650000</td>\n",
              "      <td>2.000000</td>\n",
              "      <td>12.672500</td>\n",
              "      <td>5.910000</td>\n",
              "      <td>0.037750</td>\n",
              "      <td>0.193000</td>\n",
              "      <td>0.429250</td>\n",
              "    </tr>\n",
              "    <tr>\n",
              "      <th>50%</th>\n",
              "      <td>4786994.000000</td>\n",
              "      <td>86600.000000</td>\n",
              "      <td>78.800000</td>\n",
              "      <td>0.730000</td>\n",
              "      <td>0.000000</td>\n",
              "      <td>21.000000</td>\n",
              "      <td>5550.000000</td>\n",
              "      <td>92.500000</td>\n",
              "      <td>176.200000</td>\n",
              "      <td>10.420000</td>\n",
              "      <td>1.030000</td>\n",
              "      <td>85.700000</td>\n",
              "      <td>2.000000</td>\n",
              "      <td>18.790000</td>\n",
              "      <td>7.840000</td>\n",
              "      <td>0.099000</td>\n",
              "      <td>0.272000</td>\n",
              "      <td>0.571000</td>\n",
              "    </tr>\n",
              "    <tr>\n",
              "      <th>75%</th>\n",
              "      <td>17497772.500000</td>\n",
              "      <td>441811.000000</td>\n",
              "      <td>190.150000</td>\n",
              "      <td>10.345000</td>\n",
              "      <td>0.997500</td>\n",
              "      <td>55.705000</td>\n",
              "      <td>15700.000000</td>\n",
              "      <td>98.000000</td>\n",
              "      <td>389.650000</td>\n",
              "      <td>20.000000</td>\n",
              "      <td>4.440000</td>\n",
              "      <td>95.440000</td>\n",
              "      <td>3.000000</td>\n",
              "      <td>29.820000</td>\n",
              "      <td>10.605000</td>\n",
              "      <td>0.221000</td>\n",
              "      <td>0.341000</td>\n",
              "      <td>0.678500</td>\n",
              "    </tr>\n",
              "    <tr>\n",
              "      <th>max</th>\n",
              "      <td>1313973713.000000</td>\n",
              "      <td>17075200.000000</td>\n",
              "      <td>16271.500000</td>\n",
              "      <td>870.660000</td>\n",
              "      <td>23.060000</td>\n",
              "      <td>191.190000</td>\n",
              "      <td>55100.000000</td>\n",
              "      <td>100.000000</td>\n",
              "      <td>1035.600000</td>\n",
              "      <td>62.110000</td>\n",
              "      <td>50.680000</td>\n",
              "      <td>100.000000</td>\n",
              "      <td>4.000000</td>\n",
              "      <td>50.730000</td>\n",
              "      <td>29.740000</td>\n",
              "      <td>0.769000</td>\n",
              "      <td>0.906000</td>\n",
              "      <td>0.954000</td>\n",
              "    </tr>\n",
              "  </tbody>\n",
              "</table>\n",
              "</div>\n",
              "      <button class=\"colab-df-convert\" onclick=\"convertToInteractive('df-1de2b351-e513-4e7b-8c41-01bd3553f289')\"\n",
              "              title=\"Convert this dataframe to an interactive table.\"\n",
              "              style=\"display:none;\">\n",
              "        \n",
              "  <svg xmlns=\"http://www.w3.org/2000/svg\" height=\"24px\"viewBox=\"0 0 24 24\"\n",
              "       width=\"24px\">\n",
              "    <path d=\"M0 0h24v24H0V0z\" fill=\"none\"/>\n",
              "    <path d=\"M18.56 5.44l.94 2.06.94-2.06 2.06-.94-2.06-.94-.94-2.06-.94 2.06-2.06.94zm-11 1L8.5 8.5l.94-2.06 2.06-.94-2.06-.94L8.5 2.5l-.94 2.06-2.06.94zm10 10l.94 2.06.94-2.06 2.06-.94-2.06-.94-.94-2.06-.94 2.06-2.06.94z\"/><path d=\"M17.41 7.96l-1.37-1.37c-.4-.4-.92-.59-1.43-.59-.52 0-1.04.2-1.43.59L10.3 9.45l-7.72 7.72c-.78.78-.78 2.05 0 2.83L4 21.41c.39.39.9.59 1.41.59.51 0 1.02-.2 1.41-.59l7.78-7.78 2.81-2.81c.8-.78.8-2.07 0-2.86zM5.41 20L4 18.59l7.72-7.72 1.47 1.35L5.41 20z\"/>\n",
              "  </svg>\n",
              "      </button>\n",
              "      \n",
              "  <style>\n",
              "    .colab-df-container {\n",
              "      display:flex;\n",
              "      flex-wrap:wrap;\n",
              "      gap: 12px;\n",
              "    }\n",
              "\n",
              "    .colab-df-convert {\n",
              "      background-color: #E8F0FE;\n",
              "      border: none;\n",
              "      border-radius: 50%;\n",
              "      cursor: pointer;\n",
              "      display: none;\n",
              "      fill: #1967D2;\n",
              "      height: 32px;\n",
              "      padding: 0 0 0 0;\n",
              "      width: 32px;\n",
              "    }\n",
              "\n",
              "    .colab-df-convert:hover {\n",
              "      background-color: #E2EBFA;\n",
              "      box-shadow: 0px 1px 2px rgba(60, 64, 67, 0.3), 0px 1px 3px 1px rgba(60, 64, 67, 0.15);\n",
              "      fill: #174EA6;\n",
              "    }\n",
              "\n",
              "    [theme=dark] .colab-df-convert {\n",
              "      background-color: #3B4455;\n",
              "      fill: #D2E3FC;\n",
              "    }\n",
              "\n",
              "    [theme=dark] .colab-df-convert:hover {\n",
              "      background-color: #434B5C;\n",
              "      box-shadow: 0px 1px 3px 1px rgba(0, 0, 0, 0.15);\n",
              "      filter: drop-shadow(0px 1px 2px rgba(0, 0, 0, 0.3));\n",
              "      fill: #FFFFFF;\n",
              "    }\n",
              "  </style>\n",
              "\n",
              "      <script>\n",
              "        const buttonEl =\n",
              "          document.querySelector('#df-1de2b351-e513-4e7b-8c41-01bd3553f289 button.colab-df-convert');\n",
              "        buttonEl.style.display =\n",
              "          google.colab.kernel.accessAllowed ? 'block' : 'none';\n",
              "\n",
              "        async function convertToInteractive(key) {\n",
              "          const element = document.querySelector('#df-1de2b351-e513-4e7b-8c41-01bd3553f289');\n",
              "          const dataTable =\n",
              "            await google.colab.kernel.invokeFunction('convertToInteractive',\n",
              "                                                     [key], {});\n",
              "          if (!dataTable) return;\n",
              "\n",
              "          const docLinkHtml = 'Like what you see? Visit the ' +\n",
              "            '<a target=\"_blank\" href=https://colab.research.google.com/notebooks/data_table.ipynb>data table notebook</a>'\n",
              "            + ' to learn more about interactive tables.';\n",
              "          element.innerHTML = '';\n",
              "          dataTable['output_type'] = 'display_data';\n",
              "          await google.colab.output.renderOutput(dataTable, element);\n",
              "          const docLink = document.createElement('div');\n",
              "          docLink.innerHTML = docLinkHtml;\n",
              "          element.appendChild(docLink);\n",
              "        }\n",
              "      </script>\n",
              "    </div>\n",
              "  </div>\n",
              "  "
            ]
          },
          "metadata": {},
          "execution_count": 76
        }
      ]
    },
    {
      "cell_type": "code",
      "source": [
        "pd.set_option('display.float_format',lambda x:'%5f' % x)###changing the feature's statistical values from scientific format"
      ],
      "metadata": {
        "id": "_Ocoi5QW3Tqo"
      },
      "execution_count": null,
      "outputs": []
    },
    {
      "cell_type": "code",
      "source": [
        "data.describe()"
      ],
      "metadata": {
        "colab": {
          "base_uri": "https://localhost:8080/",
          "height": 416
        },
        "id": "82Dg6SdP3ZLF",
        "outputId": "3baf2ec2-a984-4a2d-e6fc-a1dc5699c6fe"
      },
      "execution_count": null,
      "outputs": [
        {
          "output_type": "execute_result",
          "data": {
            "text/plain": [
              "             Population  Area (sq. mi.)  Pop. Density (per sq. mi.)  \\\n",
              "count        227.000000      227.000000                  227.000000   \n",
              "mean    28740284.365639   598226.955947                  379.047137   \n",
              "std    117891326.543477  1790282.243734                 1660.185825   \n",
              "min         7026.000000        2.000000                    0.000000   \n",
              "25%       437624.000000     4647.500000                   29.150000   \n",
              "50%      4786994.000000    86600.000000                   78.800000   \n",
              "75%     17497772.500000   441811.000000                  190.150000   \n",
              "max   1313973713.000000 17075200.000000                16271.500000   \n",
              "\n",
              "       Coastline (coast/area ratio)  Net migration  \\\n",
              "count                    227.000000     224.000000   \n",
              "mean                      21.165330       0.038125   \n",
              "std                       72.286863       4.889269   \n",
              "min                        0.000000     -20.990000   \n",
              "25%                        0.100000      -0.927500   \n",
              "50%                        0.730000       0.000000   \n",
              "75%                       10.345000       0.997500   \n",
              "max                      870.660000      23.060000   \n",
              "\n",
              "       Infant mortality (per 1000 births)  GDP ($ per capita)  Literacy (%)  \\\n",
              "count                          224.000000          226.000000    209.000000   \n",
              "mean                            35.506964         9689.823009     82.838278   \n",
              "std                             35.389899        10049.138513     19.722173   \n",
              "min                              2.290000          500.000000     17.600000   \n",
              "25%                              8.150000         1900.000000     70.600000   \n",
              "50%                             21.000000         5550.000000     92.500000   \n",
              "75%                             55.705000        15700.000000     98.000000   \n",
              "max                            191.190000        55100.000000    100.000000   \n",
              "\n",
              "       Phones (per 1000)  Arable (%)  Crops (%)  Other (%)    Climate  \\\n",
              "count         223.000000  225.000000 225.000000 225.000000 205.000000   \n",
              "mean          236.061435   13.797111   4.564222  81.638311   2.139024   \n",
              "std           227.991829   13.040402   8.361470  16.140835   0.699397   \n",
              "min             0.200000    0.000000   0.000000  33.330000   1.000000   \n",
              "25%            37.800000    3.220000   0.190000  71.650000   2.000000   \n",
              "50%           176.200000   10.420000   1.030000  85.700000   2.000000   \n",
              "75%           389.650000   20.000000   4.440000  95.440000   3.000000   \n",
              "max          1035.600000   62.110000  50.680000 100.000000   4.000000   \n",
              "\n",
              "       Birthrate  Deathrate  Agriculture   Industry    Service  \n",
              "count 224.000000 223.000000   212.000000 211.000000 212.000000  \n",
              "mean   22.114732   9.241345     0.150844   0.282711   0.565283  \n",
              "std    11.176716   4.990026     0.146798   0.138272   0.165841  \n",
              "min     7.290000   2.290000     0.000000   0.020000   0.062000  \n",
              "25%    12.672500   5.910000     0.037750   0.193000   0.429250  \n",
              "50%    18.790000   7.840000     0.099000   0.272000   0.571000  \n",
              "75%    29.820000  10.605000     0.221000   0.341000   0.678500  \n",
              "max    50.730000  29.740000     0.769000   0.906000   0.954000  "
            ],
            "text/html": [
              "\n",
              "  <div id=\"df-0808401e-be60-4c55-874c-af6c90ba6791\">\n",
              "    <div class=\"colab-df-container\">\n",
              "      <div>\n",
              "<style scoped>\n",
              "    .dataframe tbody tr th:only-of-type {\n",
              "        vertical-align: middle;\n",
              "    }\n",
              "\n",
              "    .dataframe tbody tr th {\n",
              "        vertical-align: top;\n",
              "    }\n",
              "\n",
              "    .dataframe thead th {\n",
              "        text-align: right;\n",
              "    }\n",
              "</style>\n",
              "<table border=\"1\" class=\"dataframe\">\n",
              "  <thead>\n",
              "    <tr style=\"text-align: right;\">\n",
              "      <th></th>\n",
              "      <th>Population</th>\n",
              "      <th>Area (sq. mi.)</th>\n",
              "      <th>Pop. Density (per sq. mi.)</th>\n",
              "      <th>Coastline (coast/area ratio)</th>\n",
              "      <th>Net migration</th>\n",
              "      <th>Infant mortality (per 1000 births)</th>\n",
              "      <th>GDP ($ per capita)</th>\n",
              "      <th>Literacy (%)</th>\n",
              "      <th>Phones (per 1000)</th>\n",
              "      <th>Arable (%)</th>\n",
              "      <th>Crops (%)</th>\n",
              "      <th>Other (%)</th>\n",
              "      <th>Climate</th>\n",
              "      <th>Birthrate</th>\n",
              "      <th>Deathrate</th>\n",
              "      <th>Agriculture</th>\n",
              "      <th>Industry</th>\n",
              "      <th>Service</th>\n",
              "    </tr>\n",
              "  </thead>\n",
              "  <tbody>\n",
              "    <tr>\n",
              "      <th>count</th>\n",
              "      <td>227.000000</td>\n",
              "      <td>227.000000</td>\n",
              "      <td>227.000000</td>\n",
              "      <td>227.000000</td>\n",
              "      <td>224.000000</td>\n",
              "      <td>224.000000</td>\n",
              "      <td>226.000000</td>\n",
              "      <td>209.000000</td>\n",
              "      <td>223.000000</td>\n",
              "      <td>225.000000</td>\n",
              "      <td>225.000000</td>\n",
              "      <td>225.000000</td>\n",
              "      <td>205.000000</td>\n",
              "      <td>224.000000</td>\n",
              "      <td>223.000000</td>\n",
              "      <td>212.000000</td>\n",
              "      <td>211.000000</td>\n",
              "      <td>212.000000</td>\n",
              "    </tr>\n",
              "    <tr>\n",
              "      <th>mean</th>\n",
              "      <td>28740284.365639</td>\n",
              "      <td>598226.955947</td>\n",
              "      <td>379.047137</td>\n",
              "      <td>21.165330</td>\n",
              "      <td>0.038125</td>\n",
              "      <td>35.506964</td>\n",
              "      <td>9689.823009</td>\n",
              "      <td>82.838278</td>\n",
              "      <td>236.061435</td>\n",
              "      <td>13.797111</td>\n",
              "      <td>4.564222</td>\n",
              "      <td>81.638311</td>\n",
              "      <td>2.139024</td>\n",
              "      <td>22.114732</td>\n",
              "      <td>9.241345</td>\n",
              "      <td>0.150844</td>\n",
              "      <td>0.282711</td>\n",
              "      <td>0.565283</td>\n",
              "    </tr>\n",
              "    <tr>\n",
              "      <th>std</th>\n",
              "      <td>117891326.543477</td>\n",
              "      <td>1790282.243734</td>\n",
              "      <td>1660.185825</td>\n",
              "      <td>72.286863</td>\n",
              "      <td>4.889269</td>\n",
              "      <td>35.389899</td>\n",
              "      <td>10049.138513</td>\n",
              "      <td>19.722173</td>\n",
              "      <td>227.991829</td>\n",
              "      <td>13.040402</td>\n",
              "      <td>8.361470</td>\n",
              "      <td>16.140835</td>\n",
              "      <td>0.699397</td>\n",
              "      <td>11.176716</td>\n",
              "      <td>4.990026</td>\n",
              "      <td>0.146798</td>\n",
              "      <td>0.138272</td>\n",
              "      <td>0.165841</td>\n",
              "    </tr>\n",
              "    <tr>\n",
              "      <th>min</th>\n",
              "      <td>7026.000000</td>\n",
              "      <td>2.000000</td>\n",
              "      <td>0.000000</td>\n",
              "      <td>0.000000</td>\n",
              "      <td>-20.990000</td>\n",
              "      <td>2.290000</td>\n",
              "      <td>500.000000</td>\n",
              "      <td>17.600000</td>\n",
              "      <td>0.200000</td>\n",
              "      <td>0.000000</td>\n",
              "      <td>0.000000</td>\n",
              "      <td>33.330000</td>\n",
              "      <td>1.000000</td>\n",
              "      <td>7.290000</td>\n",
              "      <td>2.290000</td>\n",
              "      <td>0.000000</td>\n",
              "      <td>0.020000</td>\n",
              "      <td>0.062000</td>\n",
              "    </tr>\n",
              "    <tr>\n",
              "      <th>25%</th>\n",
              "      <td>437624.000000</td>\n",
              "      <td>4647.500000</td>\n",
              "      <td>29.150000</td>\n",
              "      <td>0.100000</td>\n",
              "      <td>-0.927500</td>\n",
              "      <td>8.150000</td>\n",
              "      <td>1900.000000</td>\n",
              "      <td>70.600000</td>\n",
              "      <td>37.800000</td>\n",
              "      <td>3.220000</td>\n",
              "      <td>0.190000</td>\n",
              "      <td>71.650000</td>\n",
              "      <td>2.000000</td>\n",
              "      <td>12.672500</td>\n",
              "      <td>5.910000</td>\n",
              "      <td>0.037750</td>\n",
              "      <td>0.193000</td>\n",
              "      <td>0.429250</td>\n",
              "    </tr>\n",
              "    <tr>\n",
              "      <th>50%</th>\n",
              "      <td>4786994.000000</td>\n",
              "      <td>86600.000000</td>\n",
              "      <td>78.800000</td>\n",
              "      <td>0.730000</td>\n",
              "      <td>0.000000</td>\n",
              "      <td>21.000000</td>\n",
              "      <td>5550.000000</td>\n",
              "      <td>92.500000</td>\n",
              "      <td>176.200000</td>\n",
              "      <td>10.420000</td>\n",
              "      <td>1.030000</td>\n",
              "      <td>85.700000</td>\n",
              "      <td>2.000000</td>\n",
              "      <td>18.790000</td>\n",
              "      <td>7.840000</td>\n",
              "      <td>0.099000</td>\n",
              "      <td>0.272000</td>\n",
              "      <td>0.571000</td>\n",
              "    </tr>\n",
              "    <tr>\n",
              "      <th>75%</th>\n",
              "      <td>17497772.500000</td>\n",
              "      <td>441811.000000</td>\n",
              "      <td>190.150000</td>\n",
              "      <td>10.345000</td>\n",
              "      <td>0.997500</td>\n",
              "      <td>55.705000</td>\n",
              "      <td>15700.000000</td>\n",
              "      <td>98.000000</td>\n",
              "      <td>389.650000</td>\n",
              "      <td>20.000000</td>\n",
              "      <td>4.440000</td>\n",
              "      <td>95.440000</td>\n",
              "      <td>3.000000</td>\n",
              "      <td>29.820000</td>\n",
              "      <td>10.605000</td>\n",
              "      <td>0.221000</td>\n",
              "      <td>0.341000</td>\n",
              "      <td>0.678500</td>\n",
              "    </tr>\n",
              "    <tr>\n",
              "      <th>max</th>\n",
              "      <td>1313973713.000000</td>\n",
              "      <td>17075200.000000</td>\n",
              "      <td>16271.500000</td>\n",
              "      <td>870.660000</td>\n",
              "      <td>23.060000</td>\n",
              "      <td>191.190000</td>\n",
              "      <td>55100.000000</td>\n",
              "      <td>100.000000</td>\n",
              "      <td>1035.600000</td>\n",
              "      <td>62.110000</td>\n",
              "      <td>50.680000</td>\n",
              "      <td>100.000000</td>\n",
              "      <td>4.000000</td>\n",
              "      <td>50.730000</td>\n",
              "      <td>29.740000</td>\n",
              "      <td>0.769000</td>\n",
              "      <td>0.906000</td>\n",
              "      <td>0.954000</td>\n",
              "    </tr>\n",
              "  </tbody>\n",
              "</table>\n",
              "</div>\n",
              "      <button class=\"colab-df-convert\" onclick=\"convertToInteractive('df-0808401e-be60-4c55-874c-af6c90ba6791')\"\n",
              "              title=\"Convert this dataframe to an interactive table.\"\n",
              "              style=\"display:none;\">\n",
              "        \n",
              "  <svg xmlns=\"http://www.w3.org/2000/svg\" height=\"24px\"viewBox=\"0 0 24 24\"\n",
              "       width=\"24px\">\n",
              "    <path d=\"M0 0h24v24H0V0z\" fill=\"none\"/>\n",
              "    <path d=\"M18.56 5.44l.94 2.06.94-2.06 2.06-.94-2.06-.94-.94-2.06-.94 2.06-2.06.94zm-11 1L8.5 8.5l.94-2.06 2.06-.94-2.06-.94L8.5 2.5l-.94 2.06-2.06.94zm10 10l.94 2.06.94-2.06 2.06-.94-2.06-.94-.94-2.06-.94 2.06-2.06.94z\"/><path d=\"M17.41 7.96l-1.37-1.37c-.4-.4-.92-.59-1.43-.59-.52 0-1.04.2-1.43.59L10.3 9.45l-7.72 7.72c-.78.78-.78 2.05 0 2.83L4 21.41c.39.39.9.59 1.41.59.51 0 1.02-.2 1.41-.59l7.78-7.78 2.81-2.81c.8-.78.8-2.07 0-2.86zM5.41 20L4 18.59l7.72-7.72 1.47 1.35L5.41 20z\"/>\n",
              "  </svg>\n",
              "      </button>\n",
              "      \n",
              "  <style>\n",
              "    .colab-df-container {\n",
              "      display:flex;\n",
              "      flex-wrap:wrap;\n",
              "      gap: 12px;\n",
              "    }\n",
              "\n",
              "    .colab-df-convert {\n",
              "      background-color: #E8F0FE;\n",
              "      border: none;\n",
              "      border-radius: 50%;\n",
              "      cursor: pointer;\n",
              "      display: none;\n",
              "      fill: #1967D2;\n",
              "      height: 32px;\n",
              "      padding: 0 0 0 0;\n",
              "      width: 32px;\n",
              "    }\n",
              "\n",
              "    .colab-df-convert:hover {\n",
              "      background-color: #E2EBFA;\n",
              "      box-shadow: 0px 1px 2px rgba(60, 64, 67, 0.3), 0px 1px 3px 1px rgba(60, 64, 67, 0.15);\n",
              "      fill: #174EA6;\n",
              "    }\n",
              "\n",
              "    [theme=dark] .colab-df-convert {\n",
              "      background-color: #3B4455;\n",
              "      fill: #D2E3FC;\n",
              "    }\n",
              "\n",
              "    [theme=dark] .colab-df-convert:hover {\n",
              "      background-color: #434B5C;\n",
              "      box-shadow: 0px 1px 3px 1px rgba(0, 0, 0, 0.15);\n",
              "      filter: drop-shadow(0px 1px 2px rgba(0, 0, 0, 0.3));\n",
              "      fill: #FFFFFF;\n",
              "    }\n",
              "  </style>\n",
              "\n",
              "      <script>\n",
              "        const buttonEl =\n",
              "          document.querySelector('#df-0808401e-be60-4c55-874c-af6c90ba6791 button.colab-df-convert');\n",
              "        buttonEl.style.display =\n",
              "          google.colab.kernel.accessAllowed ? 'block' : 'none';\n",
              "\n",
              "        async function convertToInteractive(key) {\n",
              "          const element = document.querySelector('#df-0808401e-be60-4c55-874c-af6c90ba6791');\n",
              "          const dataTable =\n",
              "            await google.colab.kernel.invokeFunction('convertToInteractive',\n",
              "                                                     [key], {});\n",
              "          if (!dataTable) return;\n",
              "\n",
              "          const docLinkHtml = 'Like what you see? Visit the ' +\n",
              "            '<a target=\"_blank\" href=https://colab.research.google.com/notebooks/data_table.ipynb>data table notebook</a>'\n",
              "            + ' to learn more about interactive tables.';\n",
              "          element.innerHTML = '';\n",
              "          dataTable['output_type'] = 'display_data';\n",
              "          await google.colab.output.renderOutput(dataTable, element);\n",
              "          const docLink = document.createElement('div');\n",
              "          docLink.innerHTML = docLinkHtml;\n",
              "          element.appendChild(docLink);\n",
              "        }\n",
              "      </script>\n",
              "    </div>\n",
              "  </div>\n",
              "  "
            ]
          },
          "metadata": {},
          "execution_count": 77
        }
      ]
    },
    {
      "cell_type": "code",
      "source": [
        "##Missing value checking\n",
        "data.isnull().sum()"
      ],
      "metadata": {
        "colab": {
          "base_uri": "https://localhost:8080/"
        },
        "id": "uiFJJ7fOrdIJ",
        "outputId": "4e0cb8e1-cfaf-4e1f-ac56-43b0c2b227a1"
      },
      "execution_count": null,
      "outputs": [
        {
          "output_type": "execute_result",
          "data": {
            "text/plain": [
              "Country                                0\n",
              "Region                                 0\n",
              "Population                             0\n",
              "Area (sq. mi.)                         0\n",
              "Pop. Density (per sq. mi.)             0\n",
              "Coastline (coast/area ratio)           0\n",
              "Net migration                          3\n",
              "Infant mortality (per 1000 births)     3\n",
              "GDP ($ per capita)                     1\n",
              "Literacy (%)                          18\n",
              "Phones (per 1000)                      4\n",
              "Arable (%)                             2\n",
              "Crops (%)                              2\n",
              "Other (%)                              2\n",
              "Climate                               22\n",
              "Birthrate                              3\n",
              "Deathrate                              4\n",
              "Agriculture                           15\n",
              "Industry                              16\n",
              "Service                               15\n",
              "dtype: int64"
            ]
          },
          "metadata": {},
          "execution_count": 78
        }
      ]
    },
    {
      "cell_type": "code",
      "source": [
        "##Handling Missing Values\n",
        "data['Net migration'].fillna(data['Net migration'].median(),inplace=True)\n",
        "data['Infant mortality (per 1000 births)'].fillna(data['Infant mortality (per 1000 births)'].median(),inplace=True)\n",
        "data['GDP ($ per capita)'].fillna(data['GDP ($ per capita)'].median(),inplace=True)\n",
        "data['Literacy (%)'].fillna(data['Literacy (%)'].median(),inplace=True)\n",
        "data['Phones (per 1000)'].fillna(data['Phones (per 1000)'].median(),inplace=True)\n",
        "data['Arable (%)'].fillna(0,inplace=True)\n",
        "data['Crops (%)'].fillna(0,inplace=True)\n",
        "data['Other (%)'].fillna(0,inplace=True)\n",
        "data['Climate'].fillna(0,inplace=True)\n",
        "data['Birthrate'].fillna(data['Birthrate'].median(),inplace=True)\n",
        "data['Deathrate'].fillna(data['Deathrate'].median(),inplace=True)\n",
        "data['Agriculture'].fillna(data['Agriculture'].median(),inplace=True)\n",
        "data['Industry'].fillna(data['Industry'].median(),inplace=True)\n",
        "data['Service'].fillna(data['Service'].median(),inplace=True)\n"
      ],
      "metadata": {
        "id": "aIdBAEdY8Vti"
      },
      "execution_count": null,
      "outputs": []
    },
    {
      "cell_type": "code",
      "source": [
        "data.isnull().sum()"
      ],
      "metadata": {
        "colab": {
          "base_uri": "https://localhost:8080/"
        },
        "id": "yU9OmBba9bmn",
        "outputId": "4163e3f1-7e14-4e94-f1c1-0052914cb279"
      },
      "execution_count": null,
      "outputs": [
        {
          "output_type": "execute_result",
          "data": {
            "text/plain": [
              "Country                               0\n",
              "Region                                0\n",
              "Population                            0\n",
              "Area (sq. mi.)                        0\n",
              "Pop. Density (per sq. mi.)            0\n",
              "Coastline (coast/area ratio)          0\n",
              "Net migration                         0\n",
              "Infant mortality (per 1000 births)    0\n",
              "GDP ($ per capita)                    0\n",
              "Literacy (%)                          0\n",
              "Phones (per 1000)                     0\n",
              "Arable (%)                            0\n",
              "Crops (%)                             0\n",
              "Other (%)                             0\n",
              "Climate                               0\n",
              "Birthrate                             0\n",
              "Deathrate                             0\n",
              "Agriculture                           0\n",
              "Industry                              0\n",
              "Service                               0\n",
              "dtype: int64"
            ]
          },
          "metadata": {},
          "execution_count": 80
        }
      ]
    },
    {
      "cell_type": "markdown",
      "source": [
        "# ***Explotary Data Analysis(EDA)***"
      ],
      "metadata": {
        "id": "2nTyfSspC76l"
      }
    },
    {
      "cell_type": "code",
      "source": [
        "##Data Analysis using Visualization\n",
        "import seaborn as sns\n",
        "import matplotlib.pyplot as plt"
      ],
      "metadata": {
        "id": "3w5_LS5WDak6"
      },
      "execution_count": null,
      "outputs": []
    },
    {
      "cell_type": "code",
      "source": [
        "##Using Correlation\n",
        " ###Checking Dimensionality ,,that means we check whether we want to reduce any columns\n",
        "plt.figure(figsize=(15,12))\n",
        "cor=data.corr()\n",
        "sns.heatmap(cor,annot=True,cmap=\"YlGnBu\")\n",
        "plt.title('Feature Selection')\n",
        "plt.show()"
      ],
      "metadata": {
        "colab": {
          "base_uri": "https://localhost:8080/",
          "height": 871
        },
        "id": "4VvzE1GDI24U",
        "outputId": "854eac3a-5233-4141-8122-380ed27002e3"
      },
      "execution_count": null,
      "outputs": [
        {
          "output_type": "display_data",
          "data": {
            "text/plain": [
              "<Figure size 1080x864 with 2 Axes>"
            ],
            "image/png": "[encoded data removed]"
          },
          "metadata": {
            "needs_background": "light"
          }
        }
      ]
    },
    {
      "cell_type": "code",
      "source": [],
      "metadata": {
        "id": "lVEUewCeqJ67"
      },
      "execution_count": null,
      "outputs": []
    },
    {
      "cell_type": "code",
      "source": [
        "##Barplot showing the highest and lowest ranking of region according to avarage GDP\n",
        "fig=plt.figure(figsize=(10,5))\n",
        "data.groupby('Region')['GDP ($ per capita)'].mean().plot(kind='bar')\n",
        "plt.title('Average GDP per Region')\n",
        "plt.xlabel=('Average GDP')\n",
        "plt.ylabel=('Region')"
      ],
      "metadata": {
        "colab": {
          "base_uri": "https://localhost:8080/",
          "height": 505
        },
        "id": "IPM8OeR_h_T_",
        "outputId": "fc9aaa32-2c1f-4061-dc0f-491a32d456ae"
      },
      "execution_count": null,
      "outputs": [
        {
          "output_type": "display_data",
          "data": {
            "text/plain": [
              "<Figure size 720x360 with 1 Axes>"
            ],
            "image/png": "[encoded data removed]"
          },
          "metadata": {
            "needs_background": "light"
          }
        }
      ]
    },
    {
      "cell_type": "code",
      "source": [
        "###phones (per 1000) is highly correlated with Gdp\n",
        "fig = plt.figure(figsize=(8, 4))\n",
        "sns.regplot(data= data, x= 'Phones (per 1000)', y= 'GDP ($ per capita)',color='red')\n",
        "plt.title('GDP Analysis: GDP vs Phones')\n",
        "plt.show()"
      ],
      "metadata": {
        "colab": {
          "base_uri": "https://localhost:8080/",
          "height": 295
        },
        "id": "hdwTUi6SDLUR",
        "outputId": "1c7926bf-da28-4a4c-8a70-3475d9dc1e98"
      },
      "execution_count": null,
      "outputs": [
        {
          "output_type": "display_data",
          "data": {
            "text/plain": [
              "<Figure size 576x288 with 1 Axes>"
            ],
            "image/png": "[encoded data removed]"
          },
          "metadata": {
            "needs_background": "light"
          }
        }
      ]
    },
    {
      "cell_type": "code",
      "source": [
        "\n"
      ],
      "metadata": {
        "id": "OdJK0OKMTtvL"
      },
      "execution_count": null,
      "outputs": []
    },
    {
      "cell_type": "code",
      "source": [
        "######Encoding Categorical Data\n",
        "from sklearn.preprocessing import LabelEncoder\n",
        "le=LabelEncoder()\n",
        "data['Climate']=le.fit_transform(data['Climate'])\n",
        "data['Region']=le.fit_transform(data['Region'])"
      ],
      "metadata": {
        "id": "gnle1INTTaiP"
      },
      "execution_count": null,
      "outputs": []
    },
    {
      "cell_type": "code",
      "source": [
        "print(data['Region'].unique())"
      ],
      "metadata": {
        "colab": {
          "base_uri": "https://localhost:8080/"
        },
        "id": "Rps2PhDltcyL",
        "outputId": "32575a53-a179-4c92-8322-2876f8f955b3"
      },
      "execution_count": null,
      "outputs": [
        {
          "output_type": "stream",
          "name": "stdout",
          "text": [
            "[ 0  3  6  8 10  9  4  2  5  7  1]\n"
          ]
        }
      ]
    },
    {
      "cell_type": "code",
      "source": [
        "print(data['Climate'].unique())"
      ],
      "metadata": {
        "colab": {
          "base_uri": "https://localhost:8080/"
        },
        "id": "z3sGJ1fFT_Rh",
        "outputId": "866cd998-6edc-47b4-a264-3a815fa3ca55"
      },
      "execution_count": null,
      "outputs": [
        {
          "output_type": "stream",
          "name": "stdout",
          "text": [
            "[1 5 3 0 6 2 4]\n"
          ]
        }
      ]
    },
    {
      "cell_type": "code",
      "source": [
        "data.info()"
      ],
      "metadata": {
        "colab": {
          "base_uri": "https://localhost:8080/"
        },
        "id": "szho3ok76zYa",
        "outputId": "edee3979-0317-46f3-d92e-be116e761250"
      },
      "execution_count": null,
      "outputs": [
        {
          "output_type": "stream",
          "name": "stdout",
          "text": [
            "<class 'pandas.core.frame.DataFrame'>\n",
            "RangeIndex: 227 entries, 0 to 226\n",
            "Data columns (total 20 columns):\n",
            " #   Column                              Non-Null Count  Dtype  \n",
            "---  ------                              --------------  -----  \n",
            " 0   Country                             227 non-null    object \n",
            " 1   Region                              227 non-null    int64  \n",
            " 2   Population                          227 non-null    int64  \n",
            " 3   Area (sq. mi.)                      227 non-null    int64  \n",
            " 4   Pop. Density (per sq. mi.)          227 non-null    float64\n",
            " 5   Coastline (coast/area ratio)        227 non-null    float64\n",
            " 6   Net migration                       227 non-null    float64\n",
            " 7   Infant mortality (per 1000 births)  227 non-null    float64\n",
            " 8   GDP ($ per capita)                  227 non-null    float64\n",
            " 9   Literacy (%)                        227 non-null    float64\n",
            " 10  Phones (per 1000)                   227 non-null    float64\n",
            " 11  Arable (%)                          227 non-null    float64\n",
            " 12  Crops (%)                           227 non-null    float64\n",
            " 13  Other (%)                           227 non-null    float64\n",
            " 14  Climate                             227 non-null    int64  \n",
            " 15  Birthrate                           227 non-null    float64\n",
            " 16  Deathrate                           227 non-null    float64\n",
            " 17  Agriculture                         227 non-null    float64\n",
            " 18  Industry                            227 non-null    float64\n",
            " 19  Service                             227 non-null    float64\n",
            "dtypes: float64(15), int64(4), object(1)\n",
            "memory usage: 35.6+ KB\n"
          ]
        }
      ]
    },
    {
      "cell_type": "code",
      "source": [
        "###Seperate X and Y Values\n",
        "x=data.drop(['Country','GDP ($ per capita)'],axis=1)\n"
      ],
      "metadata": {
        "id": "l0c7TcPQzTmV"
      },
      "execution_count": null,
      "outputs": []
    },
    {
      "cell_type": "code",
      "source": [
        "x.shape"
      ],
      "metadata": {
        "colab": {
          "base_uri": "https://localhost:8080/"
        },
        "id": "-igNheYNR29W",
        "outputId": "0d7b8e86-b31c-4396-ffcf-293aa0bbeca7"
      },
      "execution_count": null,
      "outputs": [
        {
          "output_type": "execute_result",
          "data": {
            "text/plain": [
              "(227, 18)"
            ]
          },
          "metadata": {},
          "execution_count": 89
        }
      ]
    },
    {
      "cell_type": "code",
      "source": [
        "x.head()"
      ],
      "metadata": {
        "colab": {
          "base_uri": "https://localhost:8080/",
          "height": 322
        },
        "id": "GU7Mb0yB-52M",
        "outputId": "8faabe7f-d7a9-43a7-8142-7b4b7141287f"
      },
      "execution_count": null,
      "outputs": [
        {
          "output_type": "execute_result",
          "data": {
            "text/plain": [
              "   Region  Population  Area (sq. mi.)  Pop. Density (per sq. mi.)  \\\n",
              "0       0    31056997          647500                   48.000000   \n",
              "1       3     3581655           28748                  124.600000   \n",
              "2       6    32930091         2381740                   13.800000   \n",
              "3       8       57794             199                  290.400000   \n",
              "4      10       71201             468                  152.100000   \n",
              "\n",
              "   Coastline (coast/area ratio)  Net migration  \\\n",
              "0                      0.000000      23.060000   \n",
              "1                      1.260000      -4.930000   \n",
              "2                      0.040000      -0.390000   \n",
              "3                     58.290000     -20.710000   \n",
              "4                      0.000000       6.600000   \n",
              "\n",
              "   Infant mortality (per 1000 births)  Literacy (%)  Phones (per 1000)  \\\n",
              "0                          163.070000     36.000000           3.200000   \n",
              "1                           21.520000     86.500000          71.200000   \n",
              "2                           31.000000     70.000000          78.100000   \n",
              "3                            9.270000     97.000000         259.500000   \n",
              "4                            4.050000    100.000000         497.200000   \n",
              "\n",
              "   Arable (%)  Crops (%)  Other (%)  Climate  Birthrate  Deathrate  \\\n",
              "0   12.130000   0.220000  87.650000        1  46.600000  20.340000   \n",
              "1   21.090000   4.420000  74.490000        5  15.110000   5.220000   \n",
              "2    3.220000   0.250000  96.530000        1  17.140000   4.610000   \n",
              "3   10.000000  15.000000  75.000000        3  22.460000   3.270000   \n",
              "4    2.220000   0.000000  97.780000        5   8.710000   6.250000   \n",
              "\n",
              "   Agriculture  Industry  Service  \n",
              "0     0.380000  0.240000 0.380000  \n",
              "1     0.232000  0.188000 0.579000  \n",
              "2     0.101000  0.600000 0.298000  \n",
              "3     0.099000  0.272000 0.571000  \n",
              "4     0.099000  0.272000 0.571000  "
            ],
            "text/html": [
              "\n",
              "  <div id=\"df-c4cd936f-0cea-4e6e-a12d-0d5e545cd433\">\n",
              "    <div class=\"colab-df-container\">\n",
              "      <div>\n",
              "<style scoped>\n",
              "    .dataframe tbody tr th:only-of-type {\n",
              "        vertical-align: middle;\n",
              "    }\n",
              "\n",
              "    .dataframe tbody tr th {\n",
              "        vertical-align: top;\n",
              "    }\n",
              "\n",
              "    .dataframe thead th {\n",
              "        text-align: right;\n",
              "    }\n",
              "</style>\n",
              "<table border=\"1\" class=\"dataframe\">\n",
              "  <thead>\n",
              "    <tr style=\"text-align: right;\">\n",
              "      <th></th>\n",
              "      <th>Region</th>\n",
              "      <th>Population</th>\n",
              "      <th>Area (sq. mi.)</th>\n",
              "      <th>Pop. Density (per sq. mi.)</th>\n",
              "      <th>Coastline (coast/area ratio)</th>\n",
              "      <th>Net migration</th>\n",
              "      <th>Infant mortality (per 1000 births)</th>\n",
              "      <th>Literacy (%)</th>\n",
              "      <th>Phones (per 1000)</th>\n",
              "      <th>Arable (%)</th>\n",
              "      <th>Crops (%)</th>\n",
              "      <th>Other (%)</th>\n",
              "      <th>Climate</th>\n",
              "      <th>Birthrate</th>\n",
              "      <th>Deathrate</th>\n",
              "      <th>Agriculture</th>\n",
              "      <th>Industry</th>\n",
              "      <th>Service</th>\n",
              "    </tr>\n",
              "  </thead>\n",
              "  <tbody>\n",
              "    <tr>\n",
              "      <th>0</th>\n",
              "      <td>0</td>\n",
              "      <td>31056997</td>\n",
              "      <td>647500</td>\n",
              "      <td>48.000000</td>\n",
              "      <td>0.000000</td>\n",
              "      <td>23.060000</td>\n",
              "      <td>163.070000</td>\n",
              "      <td>36.000000</td>\n",
              "      <td>3.200000</td>\n",
              "      <td>12.130000</td>\n",
              "      <td>0.220000</td>\n",
              "      <td>87.650000</td>\n",
              "      <td>1</td>\n",
              "      <td>46.600000</td>\n",
              "      <td>20.340000</td>\n",
              "      <td>0.380000</td>\n",
              "      <td>0.240000</td>\n",
              "      <td>0.380000</td>\n",
              "    </tr>\n",
              "    <tr>\n",
              "      <th>1</th>\n",
              "      <td>3</td>\n",
              "      <td>3581655</td>\n",
              "      <td>28748</td>\n",
              "      <td>124.600000</td>\n",
              "      <td>1.260000</td>\n",
              "      <td>-4.930000</td>\n",
              "      <td>21.520000</td>\n",
              "      <td>86.500000</td>\n",
              "      <td>71.200000</td>\n",
              "      <td>21.090000</td>\n",
              "      <td>4.420000</td>\n",
              "      <td>74.490000</td>\n",
              "      <td>5</td>\n",
              "      <td>15.110000</td>\n",
              "      <td>5.220000</td>\n",
              "      <td>0.232000</td>\n",
              "      <td>0.188000</td>\n",
              "      <td>0.579000</td>\n",
              "    </tr>\n",
              "    <tr>\n",
              "      <th>2</th>\n",
              "      <td>6</td>\n",
              "      <td>32930091</td>\n",
              "      <td>2381740</td>\n",
              "      <td>13.800000</td>\n",
              "      <td>0.040000</td>\n",
              "      <td>-0.390000</td>\n",
              "      <td>31.000000</td>\n",
              "      <td>70.000000</td>\n",
              "      <td>78.100000</td>\n",
              "      <td>3.220000</td>\n",
              "      <td>0.250000</td>\n",
              "      <td>96.530000</td>\n",
              "      <td>1</td>\n",
              "      <td>17.140000</td>\n",
              "      <td>4.610000</td>\n",
              "      <td>0.101000</td>\n",
              "      <td>0.600000</td>\n",
              "      <td>0.298000</td>\n",
              "    </tr>\n",
              "    <tr>\n",
              "      <th>3</th>\n",
              "      <td>8</td>\n",
              "      <td>57794</td>\n",
              "      <td>199</td>\n",
              "      <td>290.400000</td>\n",
              "      <td>58.290000</td>\n",
              "      <td>-20.710000</td>\n",
              "      <td>9.270000</td>\n",
              "      <td>97.000000</td>\n",
              "      <td>259.500000</td>\n",
              "      <td>10.000000</td>\n",
              "      <td>15.000000</td>\n",
              "      <td>75.000000</td>\n",
              "      <td>3</td>\n",
              "      <td>22.460000</td>\n",
              "      <td>3.270000</td>\n",
              "      <td>0.099000</td>\n",
              "      <td>0.272000</td>\n",
              "      <td>0.571000</td>\n",
              "    </tr>\n",
              "    <tr>\n",
              "      <th>4</th>\n",
              "      <td>10</td>\n",
              "      <td>71201</td>\n",
              "      <td>468</td>\n",
              "      <td>152.100000</td>\n",
              "      <td>0.000000</td>\n",
              "      <td>6.600000</td>\n",
              "      <td>4.050000</td>\n",
              "      <td>100.000000</td>\n",
              "      <td>497.200000</td>\n",
              "      <td>2.220000</td>\n",
              "      <td>0.000000</td>\n",
              "      <td>97.780000</td>\n",
              "      <td>5</td>\n",
              "      <td>8.710000</td>\n",
              "      <td>6.250000</td>\n",
              "      <td>0.099000</td>\n",
              "      <td>0.272000</td>\n",
              "      <td>0.571000</td>\n",
              "    </tr>\n",
              "  </tbody>\n",
              "</table>\n",
              "</div>\n",
              "      <button class=\"colab-df-convert\" onclick=\"convertToInteractive('df-c4cd936f-0cea-4e6e-a12d-0d5e545cd433')\"\n",
              "              title=\"Convert this dataframe to an interactive table.\"\n",
              "              style=\"display:none;\">\n",
              "        \n",
              "  <svg xmlns=\"http://www.w3.org/2000/svg\" height=\"24px\"viewBox=\"0 0 24 24\"\n",
              "       width=\"24px\">\n",
              "    <path d=\"M0 0h24v24H0V0z\" fill=\"none\"/>\n",
              "    <path d=\"M18.56 5.44l.94 2.06.94-2.06 2.06-.94-2.06-.94-.94-2.06-.94 2.06-2.06.94zm-11 1L8.5 8.5l.94-2.06 2.06-.94-2.06-.94L8.5 2.5l-.94 2.06-2.06.94zm10 10l.94 2.06.94-2.06 2.06-.94-2.06-.94-.94-2.06-.94 2.06-2.06.94z\"/><path d=\"M17.41 7.96l-1.37-1.37c-.4-.4-.92-.59-1.43-.59-.52 0-1.04.2-1.43.59L10.3 9.45l-7.72 7.72c-.78.78-.78 2.05 0 2.83L4 21.41c.39.39.9.59 1.41.59.51 0 1.02-.2 1.41-.59l7.78-7.78 2.81-2.81c.8-.78.8-2.07 0-2.86zM5.41 20L4 18.59l7.72-7.72 1.47 1.35L5.41 20z\"/>\n",
              "  </svg>\n",
              "      </button>\n",
              "      \n",
              "  <style>\n",
              "    .colab-df-container {\n",
              "      display:flex;\n",
              "      flex-wrap:wrap;\n",
              "      gap: 12px;\n",
              "    }\n",
              "\n",
              "    .colab-df-convert {\n",
              "      background-color: #E8F0FE;\n",
              "      border: none;\n",
              "      border-radius: 50%;\n",
              "      cursor: pointer;\n",
              "      display: none;\n",
              "      fill: #1967D2;\n",
              "      height: 32px;\n",
              "      padding: 0 0 0 0;\n",
              "      width: 32px;\n",
              "    }\n",
              "\n",
              "    .colab-df-convert:hover {\n",
              "      background-color: #E2EBFA;\n",
              "      box-shadow: 0px 1px 2px rgba(60, 64, 67, 0.3), 0px 1px 3px 1px rgba(60, 64, 67, 0.15);\n",
              "      fill: #174EA6;\n",
              "    }\n",
              "\n",
              "    [theme=dark] .colab-df-convert {\n",
              "      background-color: #3B4455;\n",
              "      fill: #D2E3FC;\n",
              "    }\n",
              "\n",
              "    [theme=dark] .colab-df-convert:hover {\n",
              "      background-color: #434B5C;\n",
              "      box-shadow: 0px 1px 3px 1px rgba(0, 0, 0, 0.15);\n",
              "      filter: drop-shadow(0px 1px 2px rgba(0, 0, 0, 0.3));\n",
              "      fill: #FFFFFF;\n",
              "    }\n",
              "  </style>\n",
              "\n",
              "      <script>\n",
              "        const buttonEl =\n",
              "          document.querySelector('#df-c4cd936f-0cea-4e6e-a12d-0d5e545cd433 button.colab-df-convert');\n",
              "        buttonEl.style.display =\n",
              "          google.colab.kernel.accessAllowed ? 'block' : 'none';\n",
              "\n",
              "        async function convertToInteractive(key) {\n",
              "          const element = document.querySelector('#df-c4cd936f-0cea-4e6e-a12d-0d5e545cd433');\n",
              "          const dataTable =\n",
              "            await google.colab.kernel.invokeFunction('convertToInteractive',\n",
              "                                                     [key], {});\n",
              "          if (!dataTable) return;\n",
              "\n",
              "          const docLinkHtml = 'Like what you see? Visit the ' +\n",
              "            '<a target=\"_blank\" href=https://colab.research.google.com/notebooks/data_table.ipynb>data table notebook</a>'\n",
              "            + ' to learn more about interactive tables.';\n",
              "          element.innerHTML = '';\n",
              "          dataTable['output_type'] = 'display_data';\n",
              "          await google.colab.output.renderOutput(dataTable, element);\n",
              "          const docLink = document.createElement('div');\n",
              "          docLink.innerHTML = docLinkHtml;\n",
              "          element.appendChild(docLink);\n",
              "        }\n",
              "      </script>\n",
              "    </div>\n",
              "  </div>\n",
              "  "
            ]
          },
          "metadata": {},
          "execution_count": 90
        }
      ]
    },
    {
      "cell_type": "code",
      "source": [
        "y=data.iloc[:,8]\n",
        "y"
      ],
      "metadata": {
        "colab": {
          "base_uri": "https://localhost:8080/"
        },
        "id": "EiJzMjJ2-rsI",
        "outputId": "504ac272-4797-401e-ab7d-e8a300f137d0"
      },
      "execution_count": null,
      "outputs": [
        {
          "output_type": "execute_result",
          "data": {
            "text/plain": [
              "0       700.000000\n",
              "1      4500.000000\n",
              "2      6000.000000\n",
              "3      8000.000000\n",
              "4     19000.000000\n",
              "          ...     \n",
              "222     800.000000\n",
              "223    5550.000000\n",
              "224     800.000000\n",
              "225     800.000000\n",
              "226    1900.000000\n",
              "Name: GDP ($ per capita), Length: 227, dtype: float64"
            ]
          },
          "metadata": {},
          "execution_count": 91
        }
      ]
    },
    {
      "cell_type": "code",
      "source": [
        "######Scaling\n",
        "from sklearn.preprocessing import StandardScaler\n",
        "sc=StandardScaler()\n",
        "x=sc.fit_transform(x)"
      ],
      "metadata": {
        "id": "uhqT2NyO1r9p"
      },
      "execution_count": null,
      "outputs": []
    },
    {
      "cell_type": "code",
      "source": [
        "#########Train test split\n",
        "from sklearn.model_selection import train_test_split\n",
        "x_train,x_test,y_train,y_test=train_test_split(x,y,test_size=.30,random_state=100)"
      ],
      "metadata": {
        "id": "uOAl2wGO19Ow"
      },
      "execution_count": null,
      "outputs": []
    },
    {
      "cell_type": "markdown",
      "source": [
        "# ***Modelling***"
      ],
      "metadata": {
        "id": "ikuj4-vD2OxJ"
      }
    },
    {
      "cell_type": "markdown",
      "source": [
        "### ***1. Linear Regression***"
      ],
      "metadata": {
        "id": "ZgYftN3j2LXn"
      }
    },
    {
      "cell_type": "code",
      "source": [
        "from sklearn.linear_model import  LinearRegression\n",
        "from sklearn.metrics import mean_absolute_error,mean_squared_error,r2_score\n",
        "lr=LinearRegression()\n",
        "lr.fit(x_train,y_train)"
      ],
      "metadata": {
        "colab": {
          "base_uri": "https://localhost:8080/"
        },
        "id": "GVTkFIT42cty",
        "outputId": "0a56a8ba-a906-488e-d834-7fff9cc3e365"
      },
      "execution_count": null,
      "outputs": [
        {
          "output_type": "execute_result",
          "data": {
            "text/plain": [
              "LinearRegression()"
            ]
          },
          "metadata": {},
          "execution_count": 94
        }
      ]
    },
    {
      "cell_type": "code",
      "source": [
        "y_pred=lr.predict(x_test)\n",
        "y_pred"
      ],
      "metadata": {
        "id": "KJ6flycZ3Jv2",
        "colab": {
          "base_uri": "https://localhost:8080/"
        },
        "outputId": "d1d6fd86-2d48-4878-dfe9-0fc70d1e7284"
      },
      "execution_count": null,
      "outputs": [
        {
          "output_type": "execute_result",
          "data": {
            "text/plain": [
              "array([ 3.78995594e+03,  8.16876867e+02,  2.18939424e+04,  2.04835282e+04,\n",
              "        1.97780861e+04,  2.89250486e+04,  4.27187051e+03,  5.15690402e+03,\n",
              "        7.10272585e+02,  1.09982244e+03, -9.95806484e+02,  7.78747775e+03,\n",
              "        3.24864274e+03,  5.88425406e+03,  8.43158419e+03,  3.43436761e+03,\n",
              "        8.45609297e+03,  5.59476675e+03, -3.98874473e+03,  6.99758451e+06,\n",
              "       -3.51294330e+03,  1.68639551e+03,  1.59884622e+02,  1.15543842e+04,\n",
              "        3.86822394e+02,  3.65163033e+02, -1.44357631e+03,  1.83745526e+04,\n",
              "        2.84360758e+04,  2.75556052e+03,  3.62028749e+01, -1.74630283e+03,\n",
              "        8.67297382e+02,  1.32473065e+04,  1.37892596e+03,  6.54347143e+03,\n",
              "        1.62577190e+04,  1.13595173e+04,  1.36167569e+04,  1.18997967e+04,\n",
              "        2.13623775e+04,  7.55409791e+03,  1.08730743e+04,  1.51978699e+04,\n",
              "        5.91774894e+03,  1.04536314e+04, -1.75403957e+03,  2.96686509e+04,\n",
              "        2.33296500e+03,  1.03012906e+04,  2.45142557e+04,  2.41334847e+04,\n",
              "        3.07787084e+04,  1.25502906e+04,  5.16647386e+03,  1.01718795e+04,\n",
              "        4.33315787e+03,  1.34404861e+04,  1.50996877e+04,  5.22255066e+03,\n",
              "        1.65641937e+04, -2.99314218e+03,  8.76983072e+03,  4.88929869e+03,\n",
              "        2.85650531e+04, -2.18853845e+02,  6.97052228e+06, -2.91581044e+02,\n",
              "        2.22194211e+04])"
            ]
          },
          "metadata": {},
          "execution_count": 95
        }
      ]
    },
    {
      "cell_type": "code",
      "source": [
        "# y_pred=lr.predict([[1,2,3,4,5,6,7,8,9,10,11,12,13,14,15,16,17,18]])\n",
        "# y_pred"
      ],
      "metadata": {
        "id": "ekwJ2ISbRpar"
      },
      "execution_count": null,
      "outputs": []
    },
    {
      "cell_type": "code",
      "source": [
        "####checking Mean_squred_error,Mean_absolute_error,Accuracy\n",
        "print('Mean_absolute_error',mean_absolute_error(y_test,y_pred))"
      ],
      "metadata": {
        "colab": {
          "base_uri": "https://localhost:8080/"
        },
        "id": "Tt-zLVkk3hFL",
        "outputId": "681f49df-cce7-41f0-da26-52b830a331a5"
      },
      "execution_count": null,
      "outputs": [
        {
          "output_type": "stream",
          "name": "stdout",
          "text": [
            "Mean_absolute_error 205609.66079573578\n"
          ]
        }
      ]
    },
    {
      "cell_type": "code",
      "source": [
        "print('Mean_squred_error',mean_squared_error(y_test,y_pred))"
      ],
      "metadata": {
        "colab": {
          "base_uri": "https://localhost:8080/"
        },
        "id": "kRGhfXjV3mqb",
        "outputId": "521c15ee-9016-4c2b-ffa9-0c411a9db1be"
      },
      "execution_count": null,
      "outputs": [
        {
          "output_type": "stream",
          "name": "stdout",
          "text": [
            "Mean_squred_error 1409277319248.8252\n"
          ]
        }
      ]
    },
    {
      "cell_type": "code",
      "source": [
        "print('Accuracy=',r2_score(y_test,y_pred))"
      ],
      "metadata": {
        "colab": {
          "base_uri": "https://localhost:8080/"
        },
        "id": "oPaeuKvw3rvr",
        "outputId": "2f89e835-df00-4987-e9a7-460442849c78"
      },
      "execution_count": null,
      "outputs": [
        {
          "output_type": "stream",
          "name": "stdout",
          "text": [
            "Accuracy= -12889.841030441354\n"
          ]
        }
      ]
    },
    {
      "cell_type": "code",
      "source": [
        "##Over Fitting And Under Fitting\n",
        "lr.score(x_train,y_train)"
      ],
      "metadata": {
        "colab": {
          "base_uri": "https://localhost:8080/"
        },
        "id": "E0W0oSUwViTK",
        "outputId": "80e2f8e0-f4cd-40ce-8387-837c3f1b4ba2"
      },
      "execution_count": null,
      "outputs": [
        {
          "output_type": "execute_result",
          "data": {
            "text/plain": [
              "0.7722537485326844"
            ]
          },
          "metadata": {},
          "execution_count": 99
        }
      ]
    },
    {
      "cell_type": "code",
      "source": [
        "lr.score(x_test,y_test)"
      ],
      "metadata": {
        "colab": {
          "base_uri": "https://localhost:8080/"
        },
        "id": "tE77XdEUV3Sj",
        "outputId": "33fd47e6-0872-4e58-ea1f-383bdd3434aa"
      },
      "execution_count": null,
      "outputs": [
        {
          "output_type": "execute_result",
          "data": {
            "text/plain": [
              "-12889.841030441354"
            ]
          },
          "metadata": {},
          "execution_count": 100
        }
      ]
    },
    {
      "cell_type": "markdown",
      "source": [
        "## ***2.Random Forest***"
      ],
      "metadata": {
        "id": "JMPIWM-YUToD"
      }
    },
    {
      "cell_type": "code",
      "source": [
        "from sklearn.ensemble import RandomForestRegressor\n",
        "rfr=RandomForestRegressor(n_estimators=10,random_state=85)\n",
        "rfr.fit(x_train,y_train)"
      ],
      "metadata": {
        "colab": {
          "base_uri": "https://localhost:8080/"
        },
        "id": "YSTnlmVU4PEe",
        "outputId": "4b5a2352-64f0-4220-ad41-06ebc4a818d6"
      },
      "execution_count": null,
      "outputs": [
        {
          "output_type": "execute_result",
          "data": {
            "text/plain": [
              "RandomForestRegressor(n_estimators=10, random_state=85)"
            ]
          },
          "metadata": {},
          "execution_count": 101
        }
      ]
    },
    {
      "cell_type": "code",
      "source": [
        "y_pred=rfr.predict(x_test)\n",
        "y_pred"
      ],
      "metadata": {
        "colab": {
          "base_uri": "https://localhost:8080/"
        },
        "id": "_WfL0s-s4Skv",
        "outputId": "c65eabd2-1718-4fbb-846b-15a32ef75adc"
      },
      "execution_count": null,
      "outputs": [
        {
          "output_type": "execute_result",
          "data": {
            "text/plain": [
              "array([ 4960.,  1090., 25660., 24090., 16970., 27580.,  4770.,  4620.,\n",
              "        1550.,  3040.,  1070.,  9825.,  4420., 12800., 11880.,  5730.,\n",
              "       12770.,  3580.,   650., 21460.,  2070.,  6660.,   860., 10520.,\n",
              "        1230.,  1240.,  1680., 30140., 32320.,  2300.,  1000.,  1050.,\n",
              "        1150.,  9520.,  4640.,  7450., 14200.,  9800.,  7100.,  6830.,\n",
              "       28330.,  6460., 10260.,  7350.,  3505.,  8260.,  1710., 28870.,\n",
              "        1210., 10270., 24970., 29650., 21600., 15190.,  5970.,  7120.,\n",
              "        3775.,  7090.,  6840.,  3860., 17200.,  1770.,  7000.,  3570.,\n",
              "       21280.,  2620.,  1560.,  3270., 27700.])"
            ]
          },
          "metadata": {},
          "execution_count": 102
        }
      ]
    },
    {
      "cell_type": "code",
      "source": [
        "print('Mean Squared Error=',mean_squared_error(y_test,y_pred))"
      ],
      "metadata": {
        "colab": {
          "base_uri": "https://localhost:8080/"
        },
        "id": "dtP52Dgv4acj",
        "outputId": "78f8f2cb-f2b9-49f1-ad74-3d905b97e5ed"
      },
      "execution_count": null,
      "outputs": [
        {
          "output_type": "stream",
          "name": "stdout",
          "text": [
            "Mean Squared Error= 14839950.36231884\n"
          ]
        }
      ]
    },
    {
      "cell_type": "code",
      "source": [
        "print('Mean Absolute Error',mean_absolute_error(y_test,y_pred))"
      ],
      "metadata": {
        "colab": {
          "base_uri": "https://localhost:8080/"
        },
        "id": "_mK2koptVB8V",
        "outputId": "5fbdf280-9748-4afe-f4c3-394c079b8625"
      },
      "execution_count": null,
      "outputs": [
        {
          "output_type": "stream",
          "name": "stdout",
          "text": [
            "Mean Absolute Error 2537.31884057971\n"
          ]
        }
      ]
    },
    {
      "cell_type": "code",
      "source": [
        "print('Root Mean Square Error',np.sqrt(mean_squared_error(y_test,y_pred)))"
      ],
      "metadata": {
        "colab": {
          "base_uri": "https://localhost:8080/"
        },
        "id": "hm6T4gR3VIH0",
        "outputId": "0d5cec20-ba6a-4c81-e5cf-ddc0dca4d3d2"
      },
      "execution_count": null,
      "outputs": [
        {
          "output_type": "stream",
          "name": "stdout",
          "text": [
            "Root Mean Square Error 3852.265614196254\n"
          ]
        }
      ]
    },
    {
      "cell_type": "code",
      "source": [
        "print('Accuracy=',r2_score(y_test,y_pred))"
      ],
      "metadata": {
        "colab": {
          "base_uri": "https://localhost:8080/"
        },
        "id": "oehktk634hF7",
        "outputId": "8929d496-9bdb-4824-8bb3-bf58bc828697"
      },
      "execution_count": null,
      "outputs": [
        {
          "output_type": "stream",
          "name": "stdout",
          "text": [
            "Accuracy= 0.864257063952282\n"
          ]
        }
      ]
    },
    {
      "cell_type": "code",
      "source": [
        "########Over Fitting And Under Fitting\n",
        "rfr.score(x_train,y_train)"
      ],
      "metadata": {
        "colab": {
          "base_uri": "https://localhost:8080/"
        },
        "id": "bn1q9z9o4zZ-",
        "outputId": "a14d6908-636a-4e60-998d-dd26962430c1"
      },
      "execution_count": null,
      "outputs": [
        {
          "output_type": "execute_result",
          "data": {
            "text/plain": [
              "0.9632447063386766"
            ]
          },
          "metadata": {},
          "execution_count": 107
        }
      ]
    },
    {
      "cell_type": "code",
      "source": [
        "rfr.score(x_test,y_test)"
      ],
      "metadata": {
        "colab": {
          "base_uri": "https://localhost:8080/"
        },
        "id": "3KhMHPkf42qB",
        "outputId": "917a12ba-d6ba-4a1d-c4c8-23099392b579"
      },
      "execution_count": null,
      "outputs": [
        {
          "output_type": "execute_result",
          "data": {
            "text/plain": [
              "0.864257063952282"
            ]
          },
          "metadata": {},
          "execution_count": 108
        }
      ]
    },
    {
      "cell_type": "markdown",
      "source": [
        "### ***3.SVM-SVR***"
      ],
      "metadata": {
        "id": "1K-pMmbMVRSg"
      }
    },
    {
      "cell_type": "code",
      "source": [
        "from sklearn.svm import SVR\n",
        "svr=SVR(kernel='rbf')\n",
        "svr.fit(x_train,y_train)"
      ],
      "metadata": {
        "colab": {
          "base_uri": "https://localhost:8080/"
        },
        "id": "KXeJx_gZ4-37",
        "outputId": "4806b611-25dd-4fa0-deb4-88ae11b912d8"
      },
      "execution_count": null,
      "outputs": [
        {
          "output_type": "execute_result",
          "data": {
            "text/plain": [
              "SVR()"
            ]
          },
          "metadata": {},
          "execution_count": 109
        }
      ]
    },
    {
      "cell_type": "code",
      "source": [
        "y_pred=svr.predict(x_test)\n",
        "y_pred"
      ],
      "metadata": {
        "colab": {
          "base_uri": "https://localhost:8080/"
        },
        "id": "cCv5n6xP5EPX",
        "outputId": "61023a00-e0a4-4c85-c783-989791b411ed"
      },
      "execution_count": null,
      "outputs": [
        {
          "output_type": "execute_result",
          "data": {
            "text/plain": [
              "array([5782.25724922, 5774.18945827, 5809.75435074, 5807.91591082,\n",
              "       5801.0664067 , 5809.50242433, 5785.25790858, 5797.38323113,\n",
              "       5786.17318032, 5788.69916594, 5775.06045704, 5786.9468153 ,\n",
              "       5786.93159423, 5788.29116901, 5789.506426  , 5793.5160124 ,\n",
              "       5792.13306842, 5784.83348758, 5781.4931997 , 5795.23289558,\n",
              "       5781.53587966, 5790.76256391, 5772.14860933, 5805.288054  ,\n",
              "       5772.5545322 , 5774.53879593, 5781.72092663, 5796.45394804,\n",
              "       5800.99599137, 5788.17986391, 5773.43202924, 5777.4933461 ,\n",
              "       5778.99111833, 5801.7068213 , 5785.88382866, 5791.45584136,\n",
              "       5795.24572197, 5799.35550308, 5798.7515985 , 5798.47898854,\n",
              "       5809.8518293 , 5792.93518652, 5796.35669366, 5790.39957942,\n",
              "       5786.72705969, 5802.75641529, 5777.23106546, 5803.37268298,\n",
              "       5774.556081  , 5804.61359289, 5808.07381194, 5798.41192373,\n",
              "       5803.02090497, 5798.60534145, 5793.85444531, 5801.19678078,\n",
              "       5786.61116255, 5798.28642352, 5795.67601578, 5784.47342533,\n",
              "       5800.41580977, 5777.65509939, 5792.32981882, 5790.18595983,\n",
              "       5807.28939822, 5781.74505437, 5789.03662506, 5787.85090979,\n",
              "       5805.50897592])"
            ]
          },
          "metadata": {},
          "execution_count": 110
        }
      ]
    },
    {
      "cell_type": "code",
      "source": [
        "print('Accuracy=',r2_score(y_test,y_pred))"
      ],
      "metadata": {
        "colab": {
          "base_uri": "https://localhost:8080/"
        },
        "id": "9udHHkad5IC1",
        "outputId": "be69d56d-7adc-426e-b857-b8a56849d38e"
      },
      "execution_count": null,
      "outputs": [
        {
          "output_type": "stream",
          "name": "stdout",
          "text": [
            "Accuracy= -0.14142989346203083\n"
          ]
        }
      ]
    },
    {
      "cell_type": "code",
      "source": [
        "##Over Fitting And Under Fitting\n",
        "svr.score(x_train,y_train)"
      ],
      "metadata": {
        "id": "zST4QJmsWJbQ",
        "colab": {
          "base_uri": "https://localhost:8080/"
        },
        "outputId": "fe80124a-e33b-4043-90dd-f0167ad6a7ee"
      },
      "execution_count": null,
      "outputs": [
        {
          "output_type": "execute_result",
          "data": {
            "text/plain": [
              "-0.15242841453806055"
            ]
          },
          "metadata": {},
          "execution_count": 112
        }
      ]
    },
    {
      "cell_type": "code",
      "source": [
        "svr.score(x_test,y_test)"
      ],
      "metadata": {
        "id": "p7869E3XWUOj",
        "colab": {
          "base_uri": "https://localhost:8080/"
        },
        "outputId": "28c7a104-5a06-4113-c352-2a3664ee1e7c"
      },
      "execution_count": null,
      "outputs": [
        {
          "output_type": "execute_result",
          "data": {
            "text/plain": [
              "-0.14142989346203083"
            ]
          },
          "metadata": {},
          "execution_count": 113
        }
      ]
    },
    {
      "cell_type": "markdown",
      "source": [
        "### ***4.Decision Tree***"
      ],
      "metadata": {
        "id": "-9tKOcKrWX7j"
      }
    },
    {
      "cell_type": "code",
      "source": [
        "from sklearn.tree import DecisionTreeRegressor\n",
        "dctr=DecisionTreeRegressor()\n",
        "dctr.fit(x_train,y_train)"
      ],
      "metadata": {
        "colab": {
          "base_uri": "https://localhost:8080/"
        },
        "id": "wuTPkkbi5Pa6",
        "outputId": "52d7eef1-2daf-4d0f-c50e-572648a3376e"
      },
      "execution_count": null,
      "outputs": [
        {
          "output_type": "execute_result",
          "data": {
            "text/plain": [
              "DecisionTreeRegressor()"
            ]
          },
          "metadata": {},
          "execution_count": 114
        }
      ]
    },
    {
      "cell_type": "code",
      "source": [
        "y_pred=dctr.predict(x_test)\n",
        "y_pred"
      ],
      "metadata": {
        "colab": {
          "base_uri": "https://localhost:8080/"
        },
        "id": "tW_G9EJf5Z0G",
        "outputId": "f4a3837d-960c-4319-bbe0-44bec01667ff"
      },
      "execution_count": null,
      "outputs": [
        {
          "output_type": "execute_result",
          "data": {
            "text/plain": [
              "array([ 1700.,  1000., 29600., 22000., 37800., 29600.,  5500.,  3400.,\n",
              "        2900.,  3200.,  1000., 13100.,  4100.,  9000.,  4300.,  5550.,\n",
              "        9500.,  1900.,   500., 16700.,  2100.,  5800.,   800., 10200.,\n",
              "         800.,   900.,  2100.,  8600., 35000.,  5500.,   900.,  1900.,\n",
              "        1300., 12800.,  6900.,  7600., 13100.,  7400.,  5400., 12800.,\n",
              "       28000.,  4900., 21500.,  6700.,   500., 12800.,  1900., 37800.,\n",
              "         800., 15700., 26700., 29800., 17500.,  4300.,  6000.,  5400.,\n",
              "        5800.,  8300.,  6100.,  2400., 20000.,  1800.,  7600.,  5000.,\n",
              "       28800.,  2400.,  1700.,  4100., 16700.])"
            ]
          },
          "metadata": {},
          "execution_count": 115
        }
      ]
    },
    {
      "cell_type": "code",
      "source": [
        "##Accuracy checking\n",
        "print('Accuracy=',r2_score(y_test,y_pred))"
      ],
      "metadata": {
        "colab": {
          "base_uri": "https://localhost:8080/"
        },
        "id": "hEV4LOT-5olj",
        "outputId": "bf37fde9-5990-4968-9c4f-ea1074ae9be2"
      },
      "execution_count": null,
      "outputs": [
        {
          "output_type": "stream",
          "name": "stdout",
          "text": [
            "Accuracy= 0.6806853362746574\n"
          ]
        }
      ]
    },
    {
      "cell_type": "code",
      "source": [
        "########Over Fitting And Under Fitting\n",
        "dctr.score(x_train,y_train)"
      ],
      "metadata": {
        "colab": {
          "base_uri": "https://localhost:8080/"
        },
        "id": "cCQY2T175wBk",
        "outputId": "9194f8a9-eb7a-4662-99dd-9223110ef160"
      },
      "execution_count": null,
      "outputs": [
        {
          "output_type": "execute_result",
          "data": {
            "text/plain": [
              "1.0"
            ]
          },
          "metadata": {},
          "execution_count": 117
        }
      ]
    },
    {
      "cell_type": "code",
      "source": [
        "dctr.score(x_test,y_test)"
      ],
      "metadata": {
        "colab": {
          "base_uri": "https://localhost:8080/"
        },
        "id": "qPBIo3LH51n4",
        "outputId": "af5bfa1f-f87c-4669-e127-1a5ccf0c5c4c"
      },
      "execution_count": null,
      "outputs": [
        {
          "output_type": "execute_result",
          "data": {
            "text/plain": [
              "0.6806853362746574"
            ]
          },
          "metadata": {},
          "execution_count": 118
        }
      ]
    },
    {
      "cell_type": "markdown",
      "source": [
        "### ***5.KNN***"
      ],
      "metadata": {
        "id": "6h8SqgM-W7IY"
      }
    },
    {
      "cell_type": "code",
      "source": [
        "from sklearn.neighbors import KNeighborsRegressor\n",
        "knr=KNeighborsRegressor(n_neighbors=5)\n",
        "knr.fit(x_train,y_train)"
      ],
      "metadata": {
        "id": "ct5CXtvQ2jEF",
        "colab": {
          "base_uri": "https://localhost:8080/"
        },
        "outputId": "096256c4-1157-4c71-eb74-1494b951ce64"
      },
      "execution_count": null,
      "outputs": [
        {
          "output_type": "execute_result",
          "data": {
            "text/plain": [
              "KNeighborsRegressor()"
            ]
          },
          "metadata": {},
          "execution_count": 119
        }
      ]
    },
    {
      "cell_type": "code",
      "source": [
        "y_pred=knr.predict(x_test)\n",
        "y_pred"
      ],
      "metadata": {
        "colab": {
          "base_uri": "https://localhost:8080/"
        },
        "id": "qYcw8WMT6D_X",
        "outputId": "6ff51eba-7211-48b3-a966-7106830950cc"
      },
      "execution_count": null,
      "outputs": [
        {
          "output_type": "execute_result",
          "data": {
            "text/plain": [
              "array([ 2280.,  1120., 23540., 24600., 15660., 26560.,  5620.,  6100.,\n",
              "        2140.,  4990.,  1220.,  2840.,  4000.,  5000.,  2440.,  5600.,\n",
              "        5040.,  2820.,   760., 23060.,  2160.,  5140.,  1000., 14120.,\n",
              "        1400.,  1500.,  3040., 15600., 24800.,  4780.,  1360.,   860.,\n",
              "        1480., 12780.,  4220.,  5720., 13700., 10380., 14940.,  8740.,\n",
              "       23540.,  5240., 12020., 12080.,  5800., 11080.,  1540., 13660.,\n",
              "        1620., 12940., 23060., 21280., 25900., 10240.,  4940., 12120.,\n",
              "        4170.,  8740.,  8220.,  3720.,  8300.,  2260.,  4360.,  5240.,\n",
              "       27080.,  3520.,  4940.,  4680., 26560.])"
            ]
          },
          "metadata": {},
          "execution_count": 120
        }
      ]
    },
    {
      "cell_type": "code",
      "source": [
        "print('MAE',mean_absolute_error(y_test,y_pred))\n",
        "print('MSE',mean_squared_error(y_test,y_pred))\n",
        "print('RMSE',np.sqrt(mean_squared_error(y_test,y_pred)))"
      ],
      "metadata": {
        "id": "XEYaAASKXODt",
        "colab": {
          "base_uri": "https://localhost:8080/"
        },
        "outputId": "6e10fae1-7e18-4aeb-fa15-8c7012954cbf"
      },
      "execution_count": null,
      "outputs": [
        {
          "output_type": "stream",
          "name": "stdout",
          "text": [
            "MAE 3576.231884057971\n",
            "MSE 26818147.826086957\n",
            "RMSE 5178.624124812203\n"
          ]
        }
      ]
    },
    {
      "cell_type": "code",
      "source": [
        "print('Accuracy=',r2_score(y_test,y_pred))"
      ],
      "metadata": {
        "colab": {
          "base_uri": "https://localhost:8080/"
        },
        "id": "HWiQitfO6Gfc",
        "outputId": "9a383f8e-7dff-457d-c133-2ff4ef242f72"
      },
      "execution_count": null,
      "outputs": [
        {
          "output_type": "stream",
          "name": "stdout",
          "text": [
            "Accuracy= 0.754690950010298\n"
          ]
        }
      ]
    },
    {
      "cell_type": "code",
      "source": [
        "######Over fitting and Under Fitting\n",
        "knr.score(x_train,y_train)"
      ],
      "metadata": {
        "id": "RRu8v19MXQXc",
        "colab": {
          "base_uri": "https://localhost:8080/"
        },
        "outputId": "a93661d3-75a4-4a42-cde8-d0b76ab52dd0"
      },
      "execution_count": null,
      "outputs": [
        {
          "output_type": "execute_result",
          "data": {
            "text/plain": [
              "0.762189871891942"
            ]
          },
          "metadata": {},
          "execution_count": 123
        }
      ]
    },
    {
      "cell_type": "code",
      "source": [
        "knr.score(x_test,y_test)"
      ],
      "metadata": {
        "id": "el0QpLHIXZ2c",
        "colab": {
          "base_uri": "https://localhost:8080/"
        },
        "outputId": "fa4e8170-1e23-4402-f393-9e87b4a7072b"
      },
      "execution_count": null,
      "outputs": [
        {
          "output_type": "execute_result",
          "data": {
            "text/plain": [
              "0.754690950010298"
            ]
          },
          "metadata": {},
          "execution_count": 126
        }
      ]
    },
    {
      "cell_type": "markdown",
      "source": [
        "# ***Ensemble Technique***"
      ],
      "metadata": {
        "id": "3wvmKjj86Qsr"
      }
    },
    {
      "cell_type": "markdown",
      "source": [
        "## ***Bagging***"
      ],
      "metadata": {
        "id": "3ydNnKlh6Wlo"
      }
    },
    {
      "cell_type": "code",
      "source": [
        "from sklearn.model_selection import train_test_split\n",
        "x_train,x_test,y_train,y_test=train_test_split(x,y,test_size=.30,random_state=80)"
      ],
      "metadata": {
        "id": "DvZMiGvk6nRo"
      },
      "execution_count": null,
      "outputs": []
    },
    {
      "cell_type": "code",
      "source": [
        "from sklearn.ensemble import BaggingClassifier\n",
        "bc=BaggingClassifier(max_samples=100,bootstrap=True)\n",
        "bc.fit(x_train,y_train)"
      ],
      "metadata": {
        "id": "gYjDm9sR3Sf4",
        "colab": {
          "base_uri": "https://localhost:8080/"
        },
        "outputId": "039ee365-61fa-4acc-810a-1e7d9ac72a6b"
      },
      "execution_count": null,
      "outputs": [
        {
          "output_type": "execute_result",
          "data": {
            "text/plain": [
              "BaggingClassifier(max_samples=100)"
            ]
          },
          "metadata": {},
          "execution_count": 128
        }
      ]
    },
    {
      "cell_type": "code",
      "source": [
        "y_pred=bc.predict(x_test)\n",
        "y_pred"
      ],
      "metadata": {
        "colab": {
          "base_uri": "https://localhost:8080/"
        },
        "id": "OD_CqV1gwNsp",
        "outputId": "2b67727d-07fb-4a26-fab9-3deffdcfe0e6"
      },
      "execution_count": null,
      "outputs": [
        {
          "output_type": "execute_result",
          "data": {
            "text/plain": [
              "array([ 4800.,   500.,  3400.,   600.,  2200.,  2100.,  7400.,   600.,\n",
              "        5800.,  6700.,   700., 21000., 19000.,  9600.,  5550.,  5000.,\n",
              "        3300.,  1000., 28800.,  5500.,  6900.,  9000.,  5000.,  2200.,\n",
              "         600., 10200., 11400.,   700., 29100., 27400.,   700.,   600.,\n",
              "         600.,  6300.,  4800.,   700.,  2900.,  5550.,   700.,  5000.,\n",
              "         700.,   700.,  1800.,   700.,  5000., 21600.,  4500.,  1900.,\n",
              "        2100.,   600., 11200.,  3400.,  5000.,  3900.,   600.,  5400.,\n",
              "        1800.,  5100.,  1600.,  5500.,  5000.,  7800.,  2900.,  4500.,\n",
              "        5000.,  6300.,  2900., 21000.,  1600.])"
            ]
          },
          "metadata": {},
          "execution_count": 129
        }
      ]
    },
    {
      "cell_type": "code",
      "source": [
        "from sklearn import metrics\n",
        "print(metrics.accuracy_score(y_test,y_pred))"
      ],
      "metadata": {
        "colab": {
          "base_uri": "https://localhost:8080/"
        },
        "id": "o8rzZEdVwTfV",
        "outputId": "fee6db29-19d5-477a-a600-73ed0b6df9ed"
      },
      "execution_count": null,
      "outputs": [
        {
          "output_type": "stream",
          "name": "stdout",
          "text": [
            "0.0\n"
          ]
        }
      ]
    },
    {
      "cell_type": "code",
      "source": [
        "print(bc.score(x_train,y_train))"
      ],
      "metadata": {
        "colab": {
          "base_uri": "https://localhost:8080/"
        },
        "id": "iucs7D-XwYsP",
        "outputId": "c1bd89bd-379c-4a9c-9d73-7ccee3c88eba"
      },
      "execution_count": null,
      "outputs": [
        {
          "output_type": "stream",
          "name": "stdout",
          "text": [
            "0.9493670886075949\n"
          ]
        }
      ]
    },
    {
      "cell_type": "code",
      "source": [
        "print(bc.score(x_test,y_test))"
      ],
      "metadata": {
        "colab": {
          "base_uri": "https://localhost:8080/"
        },
        "id": "NbwoRuouwabD",
        "outputId": "185216a4-3ff8-4cbe-bf7f-65a5e4db31a4"
      },
      "execution_count": null,
      "outputs": [
        {
          "output_type": "stream",
          "name": "stdout",
          "text": [
            "0.0\n"
          ]
        }
      ]
    },
    {
      "cell_type": "code",
      "source": [
        "from sklearn.ensemble import RandomForestRegressor\n",
        "rfg=RandomForestRegressor(n_estimators=10,random_state=85)\n",
        "rfg.fit(x_train,y_train)"
      ],
      "metadata": {
        "colab": {
          "base_uri": "https://localhost:8080/"
        },
        "id": "xOageEzOwiMP",
        "outputId": "a3536724-090a-4eca-967b-d3576473ee2a"
      },
      "execution_count": null,
      "outputs": [
        {
          "output_type": "execute_result",
          "data": {
            "text/plain": [
              "RandomForestRegressor(n_estimators=10, random_state=85)"
            ]
          },
          "metadata": {},
          "execution_count": 133
        }
      ]
    },
    {
      "cell_type": "code",
      "source": [
        "y_pred=rfg.predict(x_test)\n",
        "y_pred"
      ],
      "metadata": {
        "colab": {
          "base_uri": "https://localhost:8080/"
        },
        "id": "wuS-piNiwtgq",
        "outputId": "49f3c937-64bf-4c5d-c042-a24e5021b6cb"
      },
      "execution_count": null,
      "outputs": [
        {
          "output_type": "execute_result",
          "data": {
            "text/plain": [
              "array([13850.,  1370., 10370.,  1250.,  2360.,  2120.,  4180.,  1240.,\n",
              "        5500.,  8450.,  2630., 12170., 25420.,  8430., 13150., 15140.,\n",
              "        3960.,  1910., 22290.,  3590., 22750., 16790., 20660.,  2740.,\n",
              "        1500., 22760.,  4620.,  1060., 28620., 24890.,  4310.,   700.,\n",
              "        1040.,  6030., 12210.,   960.,  3345.,  6910.,  4560., 21940.,\n",
              "         910.,   790.,  1920.,  3915.,  6485., 29130.,  3650.,  1610.,\n",
              "        1130., 10770.,  6330., 11500., 21560.,  4570.,  1260.,  2240.,\n",
              "       20310.,  7630.,  2760.,  6085., 22270.,  5380.,  5640.,  2730.,\n",
              "       26700.,  6250.,  7170., 22640.,  2190.])"
            ]
          },
          "metadata": {},
          "execution_count": 134
        }
      ]
    },
    {
      "cell_type": "code",
      "source": [
        "score=r2_score(y_test,y_pred)\n",
        "score"
      ],
      "metadata": {
        "colab": {
          "base_uri": "https://localhost:8080/"
        },
        "id": "mcWxg4hiwvvm",
        "outputId": "b64dd0bd-0752-4607-c025-34b3e8fedec0"
      },
      "execution_count": null,
      "outputs": [
        {
          "output_type": "execute_result",
          "data": {
            "text/plain": [
              "0.7701197317277497"
            ]
          },
          "metadata": {},
          "execution_count": 135
        }
      ]
    },
    {
      "cell_type": "markdown",
      "source": [
        "## ***AdaBoost***"
      ],
      "metadata": {
        "id": "QznsvAb2XjIS"
      }
    },
    {
      "cell_type": "code",
      "source": [
        "from sklearn.ensemble import AdaBoostRegressor\n",
        "adaboost=AdaBoostRegressor(learning_rate=.001)\n",
        "adaboost.fit(x_train,y_train)"
      ],
      "metadata": {
        "colab": {
          "base_uri": "https://localhost:8080/"
        },
        "id": "PjmNNBmM60UO",
        "outputId": "b4fd2d1f-8295-4fa4-8044-97e608b7f965"
      },
      "execution_count": null,
      "outputs": [
        {
          "output_type": "execute_result",
          "data": {
            "text/plain": [
              "AdaBoostRegressor(learning_rate=0.001)"
            ]
          },
          "metadata": {},
          "execution_count": 136
        }
      ]
    },
    {
      "cell_type": "code",
      "source": [
        "y_pred=adaboost.predict(x_test)\n",
        "y_pred"
      ],
      "metadata": {
        "colab": {
          "base_uri": "https://localhost:8080/"
        },
        "id": "KG61cCzK65g5",
        "outputId": "fc48170d-5268-4752-abe5-aecd0915cedc"
      },
      "execution_count": null,
      "outputs": [
        {
          "output_type": "execute_result",
          "data": {
            "text/plain": [
              "array([10080.95238095,  1569.56521739,  9389.47368421,  1569.56521739,\n",
              "        1805.26315789,  1569.56521739,  3062.5       ,  2481.25      ,\n",
              "        5259.25925926,  8392.59259259,  2063.93442623, 10768.        ,\n",
              "       11450.        ,  9334.14634146,  9496.77419355, 14700.        ,\n",
              "        4744.44444444,  1720.75471698, 24837.5       ,  4590.        ,\n",
              "       18342.85714286, 10080.95238095, 17438.46153846,  2662.12121212,\n",
              "        1569.56521739, 25677.77777778,  6403.57142857,  1569.56521739,\n",
              "       27382.35294118, 27252.        ,  2667.28395062,  1569.56521739,\n",
              "        1569.56521739,  6403.57142857,  9632.55813953,  1569.56521739,\n",
              "        5164.28571429,  8366.66666667,  5259.25925926, 25677.77777778,\n",
              "        1569.56521739,  1569.56521739,  1805.26315789,  4577.5       ,\n",
              "        7137.75510204, 27442.10526316,  4635.        ,  1589.65517241,\n",
              "        1569.56521739,  9118.62745098,  5259.25925926,  9543.75      ,\n",
              "       14700.        ,  5886.48648649,  1589.65517241,  1589.65517241,\n",
              "       25488.46153846,  5392.85714286,  2662.12121212,  4744.44444444,\n",
              "       27150.        ,  3927.90697674,  5172.22222222,  1959.61538462,\n",
              "       26760.71428571,  5800.        ,  7672.44897959, 27150.        ,\n",
              "        1682.75862069])"
            ]
          },
          "metadata": {},
          "execution_count": 137
        }
      ]
    },
    {
      "cell_type": "code",
      "source": [
        "\n",
        "print('Accuracy=',r2_score(y_test,y_pred))"
      ],
      "metadata": {
        "colab": {
          "base_uri": "https://localhost:8080/"
        },
        "id": "OkfmRZIC7ARu",
        "outputId": "192b6194-b6fb-486d-d4ba-f281df4cc6b3"
      },
      "execution_count": null,
      "outputs": [
        {
          "output_type": "stream",
          "name": "stdout",
          "text": [
            "Accuracy= 0.7489710131779981\n"
          ]
        }
      ]
    },
    {
      "cell_type": "markdown",
      "source": [
        "# ***Cross Validation***"
      ],
      "metadata": {
        "id": "2r1-yHW57FAJ"
      }
    },
    {
      "cell_type": "code",
      "source": [
        "from sklearn.model_selection import KFold\n",
        "from sklearn.model_selection import cross_val_score\n",
        "kfold=KFold(8)#######10 iteration"
      ],
      "metadata": {
        "id": "H8t97Gaa7HQ6"
      },
      "execution_count": null,
      "outputs": []
    },
    {
      "cell_type": "code",
      "source": [
        "final=cross_val_score(rfr,x,y,cv=kfold)\n",
        "final"
      ],
      "metadata": {
        "colab": {
          "base_uri": "https://localhost:8080/"
        },
        "id": "uOCADDI87LXy",
        "outputId": "d4722f54-84e0-4ce9-ff7d-26220903d7c8"
      },
      "execution_count": null,
      "outputs": [
        {
          "output_type": "execute_result",
          "data": {
            "text/plain": [
              "array([0.76136072, 0.78164693, 0.7950163 , 0.91104986, 0.81062465,\n",
              "       0.75640667, 0.80134845, 0.83779185])"
            ]
          },
          "metadata": {},
          "execution_count": 140
        }
      ]
    },
    {
      "cell_type": "code",
      "source": [
        "import numpy as np\n",
        "np.mean(final)"
      ],
      "metadata": {
        "id": "6wfMvuOi7Y1W",
        "colab": {
          "base_uri": "https://localhost:8080/"
        },
        "outputId": "97745e33-7b57-4829-bb5e-3b037549abb1"
      },
      "execution_count": null,
      "outputs": [
        {
          "output_type": "execute_result",
          "data": {
            "text/plain": [
              "0.8069056800153667"
            ]
          },
          "metadata": {},
          "execution_count": 141
        }
      ]
    },
    {
      "cell_type": "markdown",
      "source": [
        "# ***Conclusion***\n",
        "### In my project, I used countries_of_the_world dataset for predicting the GDP.I used 5  learning regressors algorithms.. (Linear Regression,Decision Tree, SVM-SvR, Random Forest,KNN), and Ensemble Technique AdaBoosting were tested. After a Cross Validation(K Fold) I Can Understand the best prediction performance using Random Forest\n",
        "\n",
        "Mean Squared Error= 14839950.36231884\n",
        "\n",
        " Mean Absolute Error 2537.31884057971\n",
        "\n",
        " Root Mean Square Error 3852.265614196254\n",
        "\n",
        "### Accuracy:0.864257063952282 "
      ],
      "metadata": {
        "id": "bbmuXLXqkEC6"
      }
    },
    {
      "cell_type": "code",
      "source": [],
      "metadata": {
        "id": "ZeeQ3CmzkCpZ"
      },
      "execution_count": null,
      "outputs": []
    }
  ]
}